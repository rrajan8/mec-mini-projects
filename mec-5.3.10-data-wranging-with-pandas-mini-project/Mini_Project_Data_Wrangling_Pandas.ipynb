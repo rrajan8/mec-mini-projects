{
  "cells": [
    {
      "cell_type": "markdown",
      "metadata": {
        "id": "DoHEyRwBFMyS"
      },
      "source": [
        "# Mini-Project: Data Wrangling and Transformation with Pandas\n",
        "\n",
        "Working with tabular data is a necessity for anyone with enterprises having a majority of their data in relational databases and flat files. This mini-project is adopted from the excellent tutorial on pandas by Brandon Rhodes which you have watched earlier in the Data Wrangling Unit. In this mini-project, we will be looking at some interesting data based on movie data from the IMDB.\n",
        "\n",
        "This assignment should help you reinforce the concepts you learnt in the curriculum for Data Wrangling and sharpen your skills in using Pandas. Good Luck!"
      ]
    },
    {
      "cell_type": "markdown",
      "metadata": {
        "id": "ImvSSUL9FMyW"
      },
      "source": [
        "### Please make sure you have one of the more recent versions of Pandas"
      ]
    },
    {
      "cell_type": "code",
      "execution_count": 1,
      "metadata": {
        "id": "x9hjCvR0FMyX"
      },
      "outputs": [],
      "source": [
        "import pandas as pd\n",
        "import matplotlib.pyplot as plt\n",
        "\n",
        "%matplotlib inline"
      ]
    },
    {
      "cell_type": "code",
      "execution_count": 2,
      "metadata": {
        "id": "CDseXCVLFMyY",
        "outputId": "526dcab1-5378-47f2-c5dc-6ead1e1955a0",
        "colab": {
          "base_uri": "https://localhost:8080/",
          "height": 35
        }
      },
      "outputs": [
        {
          "output_type": "execute_result",
          "data": {
            "application/vnd.google.colaboratory.intrinsic+json": {
              "type": "string"
            },
            "text/plain": [
              "'1.1.5'"
            ]
          },
          "metadata": {},
          "execution_count": 2
        }
      ],
      "source": [
        "pd.__version__"
      ]
    },
    {
      "cell_type": "markdown",
      "metadata": {
        "id": "K1AqoWZiFMyZ"
      },
      "source": [
        "## Taking a look at the Movies dataset\n",
        "This data shows the movies based on their title and the year of release"
      ]
    },
    {
      "cell_type": "code",
      "execution_count": 3,
      "metadata": {
        "id": "QrSYSZ7YFMya",
        "outputId": "9045f018-ce55-4b8f-d4fd-99cc8f809a03",
        "colab": {
          "base_uri": "https://localhost:8080/"
        }
      },
      "outputs": [
        {
          "output_type": "stream",
          "name": "stdout",
          "text": [
            "<class 'pandas.core.frame.DataFrame'>\n",
            "RangeIndex: 244914 entries, 0 to 244913\n",
            "Data columns (total 2 columns):\n",
            " #   Column  Non-Null Count   Dtype \n",
            "---  ------  --------------   ----- \n",
            " 0   title   244914 non-null  object\n",
            " 1   year    244914 non-null  int64 \n",
            "dtypes: int64(1), object(1)\n",
            "memory usage: 3.7+ MB\n"
          ]
        }
      ],
      "source": [
        "movies = pd.read_csv('titles.csv')\n",
        "movies.info()"
      ]
    },
    {
      "cell_type": "code",
      "execution_count": 4,
      "metadata": {
        "id": "D-D6ZeB6FMyb",
        "outputId": "fa457751-b3c2-4521-eb53-f34d56bebb8f",
        "colab": {
          "base_uri": "https://localhost:8080/",
          "height": 206
        }
      },
      "outputs": [
        {
          "output_type": "execute_result",
          "data": {
            "text/html": [
              "\n",
              "  <div id=\"df-26daaa90-4ff8-4adb-8e3f-27fef1061380\">\n",
              "    <div class=\"colab-df-container\">\n",
              "      <div>\n",
              "<style scoped>\n",
              "    .dataframe tbody tr th:only-of-type {\n",
              "        vertical-align: middle;\n",
              "    }\n",
              "\n",
              "    .dataframe tbody tr th {\n",
              "        vertical-align: top;\n",
              "    }\n",
              "\n",
              "    .dataframe thead th {\n",
              "        text-align: right;\n",
              "    }\n",
              "</style>\n",
              "<table border=\"1\" class=\"dataframe\">\n",
              "  <thead>\n",
              "    <tr style=\"text-align: right;\">\n",
              "      <th></th>\n",
              "      <th>title</th>\n",
              "      <th>year</th>\n",
              "    </tr>\n",
              "  </thead>\n",
              "  <tbody>\n",
              "    <tr>\n",
              "      <th>0</th>\n",
              "      <td>The Ticket to the Life</td>\n",
              "      <td>2009</td>\n",
              "    </tr>\n",
              "    <tr>\n",
              "      <th>1</th>\n",
              "      <td>Parallel Worlds: A New Rock Music Experience</td>\n",
              "      <td>2016</td>\n",
              "    </tr>\n",
              "    <tr>\n",
              "      <th>2</th>\n",
              "      <td>Morita - La hija de Jesus</td>\n",
              "      <td>2008</td>\n",
              "    </tr>\n",
              "    <tr>\n",
              "      <th>3</th>\n",
              "      <td>Gun</td>\n",
              "      <td>2017</td>\n",
              "    </tr>\n",
              "    <tr>\n",
              "      <th>4</th>\n",
              "      <td>Love or Nothing at All</td>\n",
              "      <td>2014</td>\n",
              "    </tr>\n",
              "  </tbody>\n",
              "</table>\n",
              "</div>\n",
              "      <button class=\"colab-df-convert\" onclick=\"convertToInteractive('df-26daaa90-4ff8-4adb-8e3f-27fef1061380')\"\n",
              "              title=\"Convert this dataframe to an interactive table.\"\n",
              "              style=\"display:none;\">\n",
              "        \n",
              "  <svg xmlns=\"http://www.w3.org/2000/svg\" height=\"24px\"viewBox=\"0 0 24 24\"\n",
              "       width=\"24px\">\n",
              "    <path d=\"M0 0h24v24H0V0z\" fill=\"none\"/>\n",
              "    <path d=\"M18.56 5.44l.94 2.06.94-2.06 2.06-.94-2.06-.94-.94-2.06-.94 2.06-2.06.94zm-11 1L8.5 8.5l.94-2.06 2.06-.94-2.06-.94L8.5 2.5l-.94 2.06-2.06.94zm10 10l.94 2.06.94-2.06 2.06-.94-2.06-.94-.94-2.06-.94 2.06-2.06.94z\"/><path d=\"M17.41 7.96l-1.37-1.37c-.4-.4-.92-.59-1.43-.59-.52 0-1.04.2-1.43.59L10.3 9.45l-7.72 7.72c-.78.78-.78 2.05 0 2.83L4 21.41c.39.39.9.59 1.41.59.51 0 1.02-.2 1.41-.59l7.78-7.78 2.81-2.81c.8-.78.8-2.07 0-2.86zM5.41 20L4 18.59l7.72-7.72 1.47 1.35L5.41 20z\"/>\n",
              "  </svg>\n",
              "      </button>\n",
              "      \n",
              "  <style>\n",
              "    .colab-df-container {\n",
              "      display:flex;\n",
              "      flex-wrap:wrap;\n",
              "      gap: 12px;\n",
              "    }\n",
              "\n",
              "    .colab-df-convert {\n",
              "      background-color: #E8F0FE;\n",
              "      border: none;\n",
              "      border-radius: 50%;\n",
              "      cursor: pointer;\n",
              "      display: none;\n",
              "      fill: #1967D2;\n",
              "      height: 32px;\n",
              "      padding: 0 0 0 0;\n",
              "      width: 32px;\n",
              "    }\n",
              "\n",
              "    .colab-df-convert:hover {\n",
              "      background-color: #E2EBFA;\n",
              "      box-shadow: 0px 1px 2px rgba(60, 64, 67, 0.3), 0px 1px 3px 1px rgba(60, 64, 67, 0.15);\n",
              "      fill: #174EA6;\n",
              "    }\n",
              "\n",
              "    [theme=dark] .colab-df-convert {\n",
              "      background-color: #3B4455;\n",
              "      fill: #D2E3FC;\n",
              "    }\n",
              "\n",
              "    [theme=dark] .colab-df-convert:hover {\n",
              "      background-color: #434B5C;\n",
              "      box-shadow: 0px 1px 3px 1px rgba(0, 0, 0, 0.15);\n",
              "      filter: drop-shadow(0px 1px 2px rgba(0, 0, 0, 0.3));\n",
              "      fill: #FFFFFF;\n",
              "    }\n",
              "  </style>\n",
              "\n",
              "      <script>\n",
              "        const buttonEl =\n",
              "          document.querySelector('#df-26daaa90-4ff8-4adb-8e3f-27fef1061380 button.colab-df-convert');\n",
              "        buttonEl.style.display =\n",
              "          google.colab.kernel.accessAllowed ? 'block' : 'none';\n",
              "\n",
              "        async function convertToInteractive(key) {\n",
              "          const element = document.querySelector('#df-26daaa90-4ff8-4adb-8e3f-27fef1061380');\n",
              "          const dataTable =\n",
              "            await google.colab.kernel.invokeFunction('convertToInteractive',\n",
              "                                                     [key], {});\n",
              "          if (!dataTable) return;\n",
              "\n",
              "          const docLinkHtml = 'Like what you see? Visit the ' +\n",
              "            '<a target=\"_blank\" href=https://colab.research.google.com/notebooks/data_table.ipynb>data table notebook</a>'\n",
              "            + ' to learn more about interactive tables.';\n",
              "          element.innerHTML = '';\n",
              "          dataTable['output_type'] = 'display_data';\n",
              "          await google.colab.output.renderOutput(dataTable, element);\n",
              "          const docLink = document.createElement('div');\n",
              "          docLink.innerHTML = docLinkHtml;\n",
              "          element.appendChild(docLink);\n",
              "        }\n",
              "      </script>\n",
              "    </div>\n",
              "  </div>\n",
              "  "
            ],
            "text/plain": [
              "                                          title  year\n",
              "0                        The Ticket to the Life  2009\n",
              "1  Parallel Worlds: A New Rock Music Experience  2016\n",
              "2                     Morita - La hija de Jesus  2008\n",
              "3                                           Gun  2017\n",
              "4                        Love or Nothing at All  2014"
            ]
          },
          "metadata": {},
          "execution_count": 4
        }
      ],
      "source": [
        "movies.head()"
      ]
    },
    {
      "cell_type": "markdown",
      "metadata": {
        "id": "BWteNTtcFMyb"
      },
      "source": [
        "## Taking a look at the Cast dataset\n",
        "\n",
        "This data shows the cast (actors, actresses, supporting roles) for each movie\n",
        "\n",
        "- The attribute `n` basically tells the importance of the cast role, lower the number, more important the role.\n",
        "- Supporting cast usually don't have any value for `n`"
      ]
    },
    {
      "cell_type": "code",
      "execution_count": 5,
      "metadata": {
        "id": "pLYXmytFFMyc",
        "outputId": "c4e9cdd9-ced6-4a58-f93c-5cf51892092b",
        "colab": {
          "base_uri": "https://localhost:8080/"
        }
      },
      "outputs": [
        {
          "output_type": "stream",
          "name": "stdout",
          "text": [
            "<class 'pandas.core.frame.DataFrame'>\n",
            "RangeIndex: 3786176 entries, 0 to 3786175\n",
            "Data columns (total 6 columns):\n",
            " #   Column     Dtype  \n",
            "---  ------     -----  \n",
            " 0   title      object \n",
            " 1   year       int64  \n",
            " 2   name       object \n",
            " 3   type       object \n",
            " 4   character  object \n",
            " 5   n          float64\n",
            "dtypes: float64(1), int64(1), object(4)\n",
            "memory usage: 173.3+ MB\n"
          ]
        }
      ],
      "source": [
        "cast = pd.read_csv('cast.csv.zip')\n",
        "cast.info()"
      ]
    },
    {
      "cell_type": "code",
      "execution_count": 6,
      "metadata": {
        "id": "DCqnytx8FMyd",
        "outputId": "044f8b95-bd68-48b4-9603-15b88b642f81",
        "colab": {
          "base_uri": "https://localhost:8080/",
          "height": 363
        }
      },
      "outputs": [
        {
          "output_type": "execute_result",
          "data": {
            "text/html": [
              "\n",
              "  <div id=\"df-9b58903b-03c8-4b36-a7c8-782c5405ae2e\">\n",
              "    <div class=\"colab-df-container\">\n",
              "      <div>\n",
              "<style scoped>\n",
              "    .dataframe tbody tr th:only-of-type {\n",
              "        vertical-align: middle;\n",
              "    }\n",
              "\n",
              "    .dataframe tbody tr th {\n",
              "        vertical-align: top;\n",
              "    }\n",
              "\n",
              "    .dataframe thead th {\n",
              "        text-align: right;\n",
              "    }\n",
              "</style>\n",
              "<table border=\"1\" class=\"dataframe\">\n",
              "  <thead>\n",
              "    <tr style=\"text-align: right;\">\n",
              "      <th></th>\n",
              "      <th>title</th>\n",
              "      <th>year</th>\n",
              "      <th>name</th>\n",
              "      <th>type</th>\n",
              "      <th>character</th>\n",
              "      <th>n</th>\n",
              "    </tr>\n",
              "  </thead>\n",
              "  <tbody>\n",
              "    <tr>\n",
              "      <th>0</th>\n",
              "      <td>Closet Monster</td>\n",
              "      <td>2015</td>\n",
              "      <td>Buffy #1</td>\n",
              "      <td>actor</td>\n",
              "      <td>Buffy 4</td>\n",
              "      <td>31.0</td>\n",
              "    </tr>\n",
              "    <tr>\n",
              "      <th>1</th>\n",
              "      <td>Suuri illusioni</td>\n",
              "      <td>1985</td>\n",
              "      <td>Homo $</td>\n",
              "      <td>actor</td>\n",
              "      <td>Guests</td>\n",
              "      <td>22.0</td>\n",
              "    </tr>\n",
              "    <tr>\n",
              "      <th>2</th>\n",
              "      <td>Battle of the Sexes</td>\n",
              "      <td>2017</td>\n",
              "      <td>$hutter</td>\n",
              "      <td>actor</td>\n",
              "      <td>Bobby Riggs Fan</td>\n",
              "      <td>10.0</td>\n",
              "    </tr>\n",
              "    <tr>\n",
              "      <th>3</th>\n",
              "      <td>Secret in Their Eyes</td>\n",
              "      <td>2015</td>\n",
              "      <td>$hutter</td>\n",
              "      <td>actor</td>\n",
              "      <td>2002 Dodger Fan</td>\n",
              "      <td>NaN</td>\n",
              "    </tr>\n",
              "    <tr>\n",
              "      <th>4</th>\n",
              "      <td>Steve Jobs</td>\n",
              "      <td>2015</td>\n",
              "      <td>$hutter</td>\n",
              "      <td>actor</td>\n",
              "      <td>1988 Opera House Patron</td>\n",
              "      <td>NaN</td>\n",
              "    </tr>\n",
              "    <tr>\n",
              "      <th>5</th>\n",
              "      <td>Straight Outta Compton</td>\n",
              "      <td>2015</td>\n",
              "      <td>$hutter</td>\n",
              "      <td>actor</td>\n",
              "      <td>Club Patron</td>\n",
              "      <td>NaN</td>\n",
              "    </tr>\n",
              "    <tr>\n",
              "      <th>6</th>\n",
              "      <td>Straight Outta Compton</td>\n",
              "      <td>2015</td>\n",
              "      <td>$hutter</td>\n",
              "      <td>actor</td>\n",
              "      <td>Dopeman</td>\n",
              "      <td>NaN</td>\n",
              "    </tr>\n",
              "    <tr>\n",
              "      <th>7</th>\n",
              "      <td>For Thy Love 2</td>\n",
              "      <td>2009</td>\n",
              "      <td>Bee Moe $lim</td>\n",
              "      <td>actor</td>\n",
              "      <td>Thug 1</td>\n",
              "      <td>NaN</td>\n",
              "    </tr>\n",
              "    <tr>\n",
              "      <th>8</th>\n",
              "      <td>Lapis, Ballpen at Diploma, a True to Life Journey</td>\n",
              "      <td>2014</td>\n",
              "      <td>Jori ' Danilo' Jurado Jr.</td>\n",
              "      <td>actor</td>\n",
              "      <td>Jaime (young)</td>\n",
              "      <td>9.0</td>\n",
              "    </tr>\n",
              "    <tr>\n",
              "      <th>9</th>\n",
              "      <td>Desire (III)</td>\n",
              "      <td>2014</td>\n",
              "      <td>Syaiful 'Ariffin</td>\n",
              "      <td>actor</td>\n",
              "      <td>Actor Playing Eteocles from 'Antigone'</td>\n",
              "      <td>NaN</td>\n",
              "    </tr>\n",
              "  </tbody>\n",
              "</table>\n",
              "</div>\n",
              "      <button class=\"colab-df-convert\" onclick=\"convertToInteractive('df-9b58903b-03c8-4b36-a7c8-782c5405ae2e')\"\n",
              "              title=\"Convert this dataframe to an interactive table.\"\n",
              "              style=\"display:none;\">\n",
              "        \n",
              "  <svg xmlns=\"http://www.w3.org/2000/svg\" height=\"24px\"viewBox=\"0 0 24 24\"\n",
              "       width=\"24px\">\n",
              "    <path d=\"M0 0h24v24H0V0z\" fill=\"none\"/>\n",
              "    <path d=\"M18.56 5.44l.94 2.06.94-2.06 2.06-.94-2.06-.94-.94-2.06-.94 2.06-2.06.94zm-11 1L8.5 8.5l.94-2.06 2.06-.94-2.06-.94L8.5 2.5l-.94 2.06-2.06.94zm10 10l.94 2.06.94-2.06 2.06-.94-2.06-.94-.94-2.06-.94 2.06-2.06.94z\"/><path d=\"M17.41 7.96l-1.37-1.37c-.4-.4-.92-.59-1.43-.59-.52 0-1.04.2-1.43.59L10.3 9.45l-7.72 7.72c-.78.78-.78 2.05 0 2.83L4 21.41c.39.39.9.59 1.41.59.51 0 1.02-.2 1.41-.59l7.78-7.78 2.81-2.81c.8-.78.8-2.07 0-2.86zM5.41 20L4 18.59l7.72-7.72 1.47 1.35L5.41 20z\"/>\n",
              "  </svg>\n",
              "      </button>\n",
              "      \n",
              "  <style>\n",
              "    .colab-df-container {\n",
              "      display:flex;\n",
              "      flex-wrap:wrap;\n",
              "      gap: 12px;\n",
              "    }\n",
              "\n",
              "    .colab-df-convert {\n",
              "      background-color: #E8F0FE;\n",
              "      border: none;\n",
              "      border-radius: 50%;\n",
              "      cursor: pointer;\n",
              "      display: none;\n",
              "      fill: #1967D2;\n",
              "      height: 32px;\n",
              "      padding: 0 0 0 0;\n",
              "      width: 32px;\n",
              "    }\n",
              "\n",
              "    .colab-df-convert:hover {\n",
              "      background-color: #E2EBFA;\n",
              "      box-shadow: 0px 1px 2px rgba(60, 64, 67, 0.3), 0px 1px 3px 1px rgba(60, 64, 67, 0.15);\n",
              "      fill: #174EA6;\n",
              "    }\n",
              "\n",
              "    [theme=dark] .colab-df-convert {\n",
              "      background-color: #3B4455;\n",
              "      fill: #D2E3FC;\n",
              "    }\n",
              "\n",
              "    [theme=dark] .colab-df-convert:hover {\n",
              "      background-color: #434B5C;\n",
              "      box-shadow: 0px 1px 3px 1px rgba(0, 0, 0, 0.15);\n",
              "      filter: drop-shadow(0px 1px 2px rgba(0, 0, 0, 0.3));\n",
              "      fill: #FFFFFF;\n",
              "    }\n",
              "  </style>\n",
              "\n",
              "      <script>\n",
              "        const buttonEl =\n",
              "          document.querySelector('#df-9b58903b-03c8-4b36-a7c8-782c5405ae2e button.colab-df-convert');\n",
              "        buttonEl.style.display =\n",
              "          google.colab.kernel.accessAllowed ? 'block' : 'none';\n",
              "\n",
              "        async function convertToInteractive(key) {\n",
              "          const element = document.querySelector('#df-9b58903b-03c8-4b36-a7c8-782c5405ae2e');\n",
              "          const dataTable =\n",
              "            await google.colab.kernel.invokeFunction('convertToInteractive',\n",
              "                                                     [key], {});\n",
              "          if (!dataTable) return;\n",
              "\n",
              "          const docLinkHtml = 'Like what you see? Visit the ' +\n",
              "            '<a target=\"_blank\" href=https://colab.research.google.com/notebooks/data_table.ipynb>data table notebook</a>'\n",
              "            + ' to learn more about interactive tables.';\n",
              "          element.innerHTML = '';\n",
              "          dataTable['output_type'] = 'display_data';\n",
              "          await google.colab.output.renderOutput(dataTable, element);\n",
              "          const docLink = document.createElement('div');\n",
              "          docLink.innerHTML = docLinkHtml;\n",
              "          element.appendChild(docLink);\n",
              "        }\n",
              "      </script>\n",
              "    </div>\n",
              "  </div>\n",
              "  "
            ],
            "text/plain": [
              "                                               title  ...     n\n",
              "0                                     Closet Monster  ...  31.0\n",
              "1                                    Suuri illusioni  ...  22.0\n",
              "2                                Battle of the Sexes  ...  10.0\n",
              "3                               Secret in Their Eyes  ...   NaN\n",
              "4                                         Steve Jobs  ...   NaN\n",
              "5                             Straight Outta Compton  ...   NaN\n",
              "6                             Straight Outta Compton  ...   NaN\n",
              "7                                     For Thy Love 2  ...   NaN\n",
              "8  Lapis, Ballpen at Diploma, a True to Life Journey  ...   9.0\n",
              "9                                       Desire (III)  ...   NaN\n",
              "\n",
              "[10 rows x 6 columns]"
            ]
          },
          "metadata": {},
          "execution_count": 6
        }
      ],
      "source": [
        "cast.head(10)"
      ]
    },
    {
      "cell_type": "markdown",
      "metadata": {
        "id": "Og0_P2KhFMyd"
      },
      "source": [
        "## Taking a look at the Release dataset\n",
        "\n",
        "This data shows details of when each movie was release in each country with the release date"
      ]
    },
    {
      "cell_type": "code",
      "execution_count": 7,
      "metadata": {
        "id": "kfExylsDFMye",
        "outputId": "d9a4eb70-2e82-43fa-97fa-dc4310ae3511",
        "colab": {
          "base_uri": "https://localhost:8080/"
        }
      },
      "outputs": [
        {
          "output_type": "stream",
          "name": "stdout",
          "text": [
            "<class 'pandas.core.frame.DataFrame'>\n",
            "RangeIndex: 479488 entries, 0 to 479487\n",
            "Data columns (total 4 columns):\n",
            " #   Column   Non-Null Count   Dtype         \n",
            "---  ------   --------------   -----         \n",
            " 0   title    479488 non-null  object        \n",
            " 1   year     479488 non-null  int64         \n",
            " 2   country  479488 non-null  object        \n",
            " 3   date     479488 non-null  datetime64[ns]\n",
            "dtypes: datetime64[ns](1), int64(1), object(2)\n",
            "memory usage: 14.6+ MB\n"
          ]
        }
      ],
      "source": [
        "release_dates = pd.read_csv('release_dates.csv', parse_dates=['date'], infer_datetime_format=True)\n",
        "release_dates.info()"
      ]
    },
    {
      "cell_type": "code",
      "execution_count": 8,
      "metadata": {
        "id": "PP02cFwAFMye",
        "outputId": "1263b8a6-1ab3-4f54-a72b-960c17d739bd",
        "colab": {
          "base_uri": "https://localhost:8080/",
          "height": 206
        }
      },
      "outputs": [
        {
          "output_type": "execute_result",
          "data": {
            "text/html": [
              "\n",
              "  <div id=\"df-f5887e03-9dec-4f10-ac17-0c48ee7d66ee\">\n",
              "    <div class=\"colab-df-container\">\n",
              "      <div>\n",
              "<style scoped>\n",
              "    .dataframe tbody tr th:only-of-type {\n",
              "        vertical-align: middle;\n",
              "    }\n",
              "\n",
              "    .dataframe tbody tr th {\n",
              "        vertical-align: top;\n",
              "    }\n",
              "\n",
              "    .dataframe thead th {\n",
              "        text-align: right;\n",
              "    }\n",
              "</style>\n",
              "<table border=\"1\" class=\"dataframe\">\n",
              "  <thead>\n",
              "    <tr style=\"text-align: right;\">\n",
              "      <th></th>\n",
              "      <th>title</th>\n",
              "      <th>year</th>\n",
              "      <th>country</th>\n",
              "      <th>date</th>\n",
              "    </tr>\n",
              "  </thead>\n",
              "  <tbody>\n",
              "    <tr>\n",
              "      <th>0</th>\n",
              "      <td>#73, Shaanthi Nivaasa</td>\n",
              "      <td>2007</td>\n",
              "      <td>India</td>\n",
              "      <td>2007-06-15</td>\n",
              "    </tr>\n",
              "    <tr>\n",
              "      <th>1</th>\n",
              "      <td>#BKKY</td>\n",
              "      <td>2016</td>\n",
              "      <td>Cambodia</td>\n",
              "      <td>2017-10-12</td>\n",
              "    </tr>\n",
              "    <tr>\n",
              "      <th>2</th>\n",
              "      <td>#Beings</td>\n",
              "      <td>2015</td>\n",
              "      <td>Romania</td>\n",
              "      <td>2015-01-29</td>\n",
              "    </tr>\n",
              "    <tr>\n",
              "      <th>3</th>\n",
              "      <td>#Captured</td>\n",
              "      <td>2017</td>\n",
              "      <td>USA</td>\n",
              "      <td>2017-09-05</td>\n",
              "    </tr>\n",
              "    <tr>\n",
              "      <th>4</th>\n",
              "      <td>#Ewankosau saranghaeyo</td>\n",
              "      <td>2015</td>\n",
              "      <td>Philippines</td>\n",
              "      <td>2015-01-21</td>\n",
              "    </tr>\n",
              "  </tbody>\n",
              "</table>\n",
              "</div>\n",
              "      <button class=\"colab-df-convert\" onclick=\"convertToInteractive('df-f5887e03-9dec-4f10-ac17-0c48ee7d66ee')\"\n",
              "              title=\"Convert this dataframe to an interactive table.\"\n",
              "              style=\"display:none;\">\n",
              "        \n",
              "  <svg xmlns=\"http://www.w3.org/2000/svg\" height=\"24px\"viewBox=\"0 0 24 24\"\n",
              "       width=\"24px\">\n",
              "    <path d=\"M0 0h24v24H0V0z\" fill=\"none\"/>\n",
              "    <path d=\"M18.56 5.44l.94 2.06.94-2.06 2.06-.94-2.06-.94-.94-2.06-.94 2.06-2.06.94zm-11 1L8.5 8.5l.94-2.06 2.06-.94-2.06-.94L8.5 2.5l-.94 2.06-2.06.94zm10 10l.94 2.06.94-2.06 2.06-.94-2.06-.94-.94-2.06-.94 2.06-2.06.94z\"/><path d=\"M17.41 7.96l-1.37-1.37c-.4-.4-.92-.59-1.43-.59-.52 0-1.04.2-1.43.59L10.3 9.45l-7.72 7.72c-.78.78-.78 2.05 0 2.83L4 21.41c.39.39.9.59 1.41.59.51 0 1.02-.2 1.41-.59l7.78-7.78 2.81-2.81c.8-.78.8-2.07 0-2.86zM5.41 20L4 18.59l7.72-7.72 1.47 1.35L5.41 20z\"/>\n",
              "  </svg>\n",
              "      </button>\n",
              "      \n",
              "  <style>\n",
              "    .colab-df-container {\n",
              "      display:flex;\n",
              "      flex-wrap:wrap;\n",
              "      gap: 12px;\n",
              "    }\n",
              "\n",
              "    .colab-df-convert {\n",
              "      background-color: #E8F0FE;\n",
              "      border: none;\n",
              "      border-radius: 50%;\n",
              "      cursor: pointer;\n",
              "      display: none;\n",
              "      fill: #1967D2;\n",
              "      height: 32px;\n",
              "      padding: 0 0 0 0;\n",
              "      width: 32px;\n",
              "    }\n",
              "\n",
              "    .colab-df-convert:hover {\n",
              "      background-color: #E2EBFA;\n",
              "      box-shadow: 0px 1px 2px rgba(60, 64, 67, 0.3), 0px 1px 3px 1px rgba(60, 64, 67, 0.15);\n",
              "      fill: #174EA6;\n",
              "    }\n",
              "\n",
              "    [theme=dark] .colab-df-convert {\n",
              "      background-color: #3B4455;\n",
              "      fill: #D2E3FC;\n",
              "    }\n",
              "\n",
              "    [theme=dark] .colab-df-convert:hover {\n",
              "      background-color: #434B5C;\n",
              "      box-shadow: 0px 1px 3px 1px rgba(0, 0, 0, 0.15);\n",
              "      filter: drop-shadow(0px 1px 2px rgba(0, 0, 0, 0.3));\n",
              "      fill: #FFFFFF;\n",
              "    }\n",
              "  </style>\n",
              "\n",
              "      <script>\n",
              "        const buttonEl =\n",
              "          document.querySelector('#df-f5887e03-9dec-4f10-ac17-0c48ee7d66ee button.colab-df-convert');\n",
              "        buttonEl.style.display =\n",
              "          google.colab.kernel.accessAllowed ? 'block' : 'none';\n",
              "\n",
              "        async function convertToInteractive(key) {\n",
              "          const element = document.querySelector('#df-f5887e03-9dec-4f10-ac17-0c48ee7d66ee');\n",
              "          const dataTable =\n",
              "            await google.colab.kernel.invokeFunction('convertToInteractive',\n",
              "                                                     [key], {});\n",
              "          if (!dataTable) return;\n",
              "\n",
              "          const docLinkHtml = 'Like what you see? Visit the ' +\n",
              "            '<a target=\"_blank\" href=https://colab.research.google.com/notebooks/data_table.ipynb>data table notebook</a>'\n",
              "            + ' to learn more about interactive tables.';\n",
              "          element.innerHTML = '';\n",
              "          dataTable['output_type'] = 'display_data';\n",
              "          await google.colab.output.renderOutput(dataTable, element);\n",
              "          const docLink = document.createElement('div');\n",
              "          docLink.innerHTML = docLinkHtml;\n",
              "          element.appendChild(docLink);\n",
              "        }\n",
              "      </script>\n",
              "    </div>\n",
              "  </div>\n",
              "  "
            ],
            "text/plain": [
              "                    title  year      country       date\n",
              "0   #73, Shaanthi Nivaasa  2007        India 2007-06-15\n",
              "1                   #BKKY  2016     Cambodia 2017-10-12\n",
              "2                 #Beings  2015      Romania 2015-01-29\n",
              "3               #Captured  2017          USA 2017-09-05\n",
              "4  #Ewankosau saranghaeyo  2015  Philippines 2015-01-21"
            ]
          },
          "metadata": {},
          "execution_count": 8
        }
      ],
      "source": [
        "release_dates.head()"
      ]
    },
    {
      "cell_type": "markdown",
      "metadata": {
        "id": "uid17SdHFMyf"
      },
      "source": [
        "# Section I - Basic Querying, Filtering and Transformations"
      ]
    },
    {
      "cell_type": "markdown",
      "metadata": {
        "id": "FfG02tEpFMyf"
      },
      "source": [
        "### What is the total number of movies?"
      ]
    },
    {
      "cell_type": "code",
      "execution_count": 9,
      "metadata": {
        "id": "vOyT5oFjFMyf",
        "outputId": "3cec58e8-2548-46e7-9732-bc16623ad510",
        "colab": {
          "base_uri": "https://localhost:8080/"
        }
      },
      "outputs": [
        {
          "output_type": "execute_result",
          "data": {
            "text/plain": [
              "244914"
            ]
          },
          "metadata": {},
          "execution_count": 9
        }
      ],
      "source": [
        "len(movies)"
      ]
    },
    {
      "cell_type": "markdown",
      "metadata": {
        "id": "NuRg7gOkFMyg"
      },
      "source": [
        "### List all Batman movies ever made"
      ]
    },
    {
      "cell_type": "code",
      "execution_count": 10,
      "metadata": {
        "id": "3FxVp3SKFMyg",
        "outputId": "99dc4746-244d-4ccb-c892-20b636538f1a",
        "colab": {
          "base_uri": "https://localhost:8080/",
          "height": 129
        }
      },
      "outputs": [
        {
          "output_type": "stream",
          "name": "stdout",
          "text": [
            "Total Batman Movies: 2\n"
          ]
        },
        {
          "output_type": "execute_result",
          "data": {
            "text/html": [
              "\n",
              "  <div id=\"df-353f5d5b-3595-40fa-9e3f-42612cf4f2df\">\n",
              "    <div class=\"colab-df-container\">\n",
              "      <div>\n",
              "<style scoped>\n",
              "    .dataframe tbody tr th:only-of-type {\n",
              "        vertical-align: middle;\n",
              "    }\n",
              "\n",
              "    .dataframe tbody tr th {\n",
              "        vertical-align: top;\n",
              "    }\n",
              "\n",
              "    .dataframe thead th {\n",
              "        text-align: right;\n",
              "    }\n",
              "</style>\n",
              "<table border=\"1\" class=\"dataframe\">\n",
              "  <thead>\n",
              "    <tr style=\"text-align: right;\">\n",
              "      <th></th>\n",
              "      <th>title</th>\n",
              "      <th>year</th>\n",
              "    </tr>\n",
              "  </thead>\n",
              "  <tbody>\n",
              "    <tr>\n",
              "      <th>52734</th>\n",
              "      <td>Batman</td>\n",
              "      <td>1943</td>\n",
              "    </tr>\n",
              "    <tr>\n",
              "      <th>150621</th>\n",
              "      <td>Batman</td>\n",
              "      <td>1989</td>\n",
              "    </tr>\n",
              "  </tbody>\n",
              "</table>\n",
              "</div>\n",
              "      <button class=\"colab-df-convert\" onclick=\"convertToInteractive('df-353f5d5b-3595-40fa-9e3f-42612cf4f2df')\"\n",
              "              title=\"Convert this dataframe to an interactive table.\"\n",
              "              style=\"display:none;\">\n",
              "        \n",
              "  <svg xmlns=\"http://www.w3.org/2000/svg\" height=\"24px\"viewBox=\"0 0 24 24\"\n",
              "       width=\"24px\">\n",
              "    <path d=\"M0 0h24v24H0V0z\" fill=\"none\"/>\n",
              "    <path d=\"M18.56 5.44l.94 2.06.94-2.06 2.06-.94-2.06-.94-.94-2.06-.94 2.06-2.06.94zm-11 1L8.5 8.5l.94-2.06 2.06-.94-2.06-.94L8.5 2.5l-.94 2.06-2.06.94zm10 10l.94 2.06.94-2.06 2.06-.94-2.06-.94-.94-2.06-.94 2.06-2.06.94z\"/><path d=\"M17.41 7.96l-1.37-1.37c-.4-.4-.92-.59-1.43-.59-.52 0-1.04.2-1.43.59L10.3 9.45l-7.72 7.72c-.78.78-.78 2.05 0 2.83L4 21.41c.39.39.9.59 1.41.59.51 0 1.02-.2 1.41-.59l7.78-7.78 2.81-2.81c.8-.78.8-2.07 0-2.86zM5.41 20L4 18.59l7.72-7.72 1.47 1.35L5.41 20z\"/>\n",
              "  </svg>\n",
              "      </button>\n",
              "      \n",
              "  <style>\n",
              "    .colab-df-container {\n",
              "      display:flex;\n",
              "      flex-wrap:wrap;\n",
              "      gap: 12px;\n",
              "    }\n",
              "\n",
              "    .colab-df-convert {\n",
              "      background-color: #E8F0FE;\n",
              "      border: none;\n",
              "      border-radius: 50%;\n",
              "      cursor: pointer;\n",
              "      display: none;\n",
              "      fill: #1967D2;\n",
              "      height: 32px;\n",
              "      padding: 0 0 0 0;\n",
              "      width: 32px;\n",
              "    }\n",
              "\n",
              "    .colab-df-convert:hover {\n",
              "      background-color: #E2EBFA;\n",
              "      box-shadow: 0px 1px 2px rgba(60, 64, 67, 0.3), 0px 1px 3px 1px rgba(60, 64, 67, 0.15);\n",
              "      fill: #174EA6;\n",
              "    }\n",
              "\n",
              "    [theme=dark] .colab-df-convert {\n",
              "      background-color: #3B4455;\n",
              "      fill: #D2E3FC;\n",
              "    }\n",
              "\n",
              "    [theme=dark] .colab-df-convert:hover {\n",
              "      background-color: #434B5C;\n",
              "      box-shadow: 0px 1px 3px 1px rgba(0, 0, 0, 0.15);\n",
              "      filter: drop-shadow(0px 1px 2px rgba(0, 0, 0, 0.3));\n",
              "      fill: #FFFFFF;\n",
              "    }\n",
              "  </style>\n",
              "\n",
              "      <script>\n",
              "        const buttonEl =\n",
              "          document.querySelector('#df-353f5d5b-3595-40fa-9e3f-42612cf4f2df button.colab-df-convert');\n",
              "        buttonEl.style.display =\n",
              "          google.colab.kernel.accessAllowed ? 'block' : 'none';\n",
              "\n",
              "        async function convertToInteractive(key) {\n",
              "          const element = document.querySelector('#df-353f5d5b-3595-40fa-9e3f-42612cf4f2df');\n",
              "          const dataTable =\n",
              "            await google.colab.kernel.invokeFunction('convertToInteractive',\n",
              "                                                     [key], {});\n",
              "          if (!dataTable) return;\n",
              "\n",
              "          const docLinkHtml = 'Like what you see? Visit the ' +\n",
              "            '<a target=\"_blank\" href=https://colab.research.google.com/notebooks/data_table.ipynb>data table notebook</a>'\n",
              "            + ' to learn more about interactive tables.';\n",
              "          element.innerHTML = '';\n",
              "          dataTable['output_type'] = 'display_data';\n",
              "          await google.colab.output.renderOutput(dataTable, element);\n",
              "          const docLink = document.createElement('div');\n",
              "          docLink.innerHTML = docLinkHtml;\n",
              "          element.appendChild(docLink);\n",
              "        }\n",
              "      </script>\n",
              "    </div>\n",
              "  </div>\n",
              "  "
            ],
            "text/plain": [
              "         title  year\n",
              "52734   Batman  1943\n",
              "150621  Batman  1989"
            ]
          },
          "metadata": {},
          "execution_count": 10
        }
      ],
      "source": [
        "batman_df = movies[movies.title == 'Batman']\n",
        "print('Total Batman Movies:', len(batman_df))\n",
        "batman_df"
      ]
    },
    {
      "cell_type": "markdown",
      "metadata": {
        "id": "UMh_0qZqFMyg"
      },
      "source": [
        "### List all Batman movies ever made - the right approach"
      ]
    },
    {
      "cell_type": "code",
      "execution_count": 11,
      "metadata": {
        "id": "LUOVgjBlFMyg",
        "outputId": "168f426f-0aa3-4ea6-e1d5-8405e82b43d6",
        "colab": {
          "base_uri": "https://localhost:8080/",
          "height": 380
        }
      },
      "outputs": [
        {
          "output_type": "stream",
          "name": "stdout",
          "text": [
            "Total Batman Movies: 35\n"
          ]
        },
        {
          "output_type": "execute_result",
          "data": {
            "text/html": [
              "\n",
              "  <div id=\"df-b0ba0d1f-2538-4960-a844-bc268380b114\">\n",
              "    <div class=\"colab-df-container\">\n",
              "      <div>\n",
              "<style scoped>\n",
              "    .dataframe tbody tr th:only-of-type {\n",
              "        vertical-align: middle;\n",
              "    }\n",
              "\n",
              "    .dataframe tbody tr th {\n",
              "        vertical-align: top;\n",
              "    }\n",
              "\n",
              "    .dataframe thead th {\n",
              "        text-align: right;\n",
              "    }\n",
              "</style>\n",
              "<table border=\"1\" class=\"dataframe\">\n",
              "  <thead>\n",
              "    <tr style=\"text-align: right;\">\n",
              "      <th></th>\n",
              "      <th>title</th>\n",
              "      <th>year</th>\n",
              "    </tr>\n",
              "  </thead>\n",
              "  <tbody>\n",
              "    <tr>\n",
              "      <th>16813</th>\n",
              "      <td>Batman: Anarchy</td>\n",
              "      <td>2016</td>\n",
              "    </tr>\n",
              "    <tr>\n",
              "      <th>30236</th>\n",
              "      <td>Batman Forever</td>\n",
              "      <td>1995</td>\n",
              "    </tr>\n",
              "    <tr>\n",
              "      <th>31674</th>\n",
              "      <td>Batman Untold</td>\n",
              "      <td>2010</td>\n",
              "    </tr>\n",
              "    <tr>\n",
              "      <th>31711</th>\n",
              "      <td>Scooby-Doo &amp; Batman: the Brave and the Bold</td>\n",
              "      <td>2018</td>\n",
              "    </tr>\n",
              "    <tr>\n",
              "      <th>41881</th>\n",
              "      <td>Batman the Rise of Red Hood</td>\n",
              "      <td>2018</td>\n",
              "    </tr>\n",
              "    <tr>\n",
              "      <th>43484</th>\n",
              "      <td>Batman: Return of the Caped Crusaders</td>\n",
              "      <td>2016</td>\n",
              "    </tr>\n",
              "    <tr>\n",
              "      <th>46333</th>\n",
              "      <td>Batman &amp; Robin</td>\n",
              "      <td>1997</td>\n",
              "    </tr>\n",
              "    <tr>\n",
              "      <th>51811</th>\n",
              "      <td>Batman Revealed</td>\n",
              "      <td>2012</td>\n",
              "    </tr>\n",
              "    <tr>\n",
              "      <th>52734</th>\n",
              "      <td>Batman</td>\n",
              "      <td>1943</td>\n",
              "    </tr>\n",
              "    <tr>\n",
              "      <th>56029</th>\n",
              "      <td>Batman Beyond: Rising Knight</td>\n",
              "      <td>2014</td>\n",
              "    </tr>\n",
              "  </tbody>\n",
              "</table>\n",
              "</div>\n",
              "      <button class=\"colab-df-convert\" onclick=\"convertToInteractive('df-b0ba0d1f-2538-4960-a844-bc268380b114')\"\n",
              "              title=\"Convert this dataframe to an interactive table.\"\n",
              "              style=\"display:none;\">\n",
              "        \n",
              "  <svg xmlns=\"http://www.w3.org/2000/svg\" height=\"24px\"viewBox=\"0 0 24 24\"\n",
              "       width=\"24px\">\n",
              "    <path d=\"M0 0h24v24H0V0z\" fill=\"none\"/>\n",
              "    <path d=\"M18.56 5.44l.94 2.06.94-2.06 2.06-.94-2.06-.94-.94-2.06-.94 2.06-2.06.94zm-11 1L8.5 8.5l.94-2.06 2.06-.94-2.06-.94L8.5 2.5l-.94 2.06-2.06.94zm10 10l.94 2.06.94-2.06 2.06-.94-2.06-.94-.94-2.06-.94 2.06-2.06.94z\"/><path d=\"M17.41 7.96l-1.37-1.37c-.4-.4-.92-.59-1.43-.59-.52 0-1.04.2-1.43.59L10.3 9.45l-7.72 7.72c-.78.78-.78 2.05 0 2.83L4 21.41c.39.39.9.59 1.41.59.51 0 1.02-.2 1.41-.59l7.78-7.78 2.81-2.81c.8-.78.8-2.07 0-2.86zM5.41 20L4 18.59l7.72-7.72 1.47 1.35L5.41 20z\"/>\n",
              "  </svg>\n",
              "      </button>\n",
              "      \n",
              "  <style>\n",
              "    .colab-df-container {\n",
              "      display:flex;\n",
              "      flex-wrap:wrap;\n",
              "      gap: 12px;\n",
              "    }\n",
              "\n",
              "    .colab-df-convert {\n",
              "      background-color: #E8F0FE;\n",
              "      border: none;\n",
              "      border-radius: 50%;\n",
              "      cursor: pointer;\n",
              "      display: none;\n",
              "      fill: #1967D2;\n",
              "      height: 32px;\n",
              "      padding: 0 0 0 0;\n",
              "      width: 32px;\n",
              "    }\n",
              "\n",
              "    .colab-df-convert:hover {\n",
              "      background-color: #E2EBFA;\n",
              "      box-shadow: 0px 1px 2px rgba(60, 64, 67, 0.3), 0px 1px 3px 1px rgba(60, 64, 67, 0.15);\n",
              "      fill: #174EA6;\n",
              "    }\n",
              "\n",
              "    [theme=dark] .colab-df-convert {\n",
              "      background-color: #3B4455;\n",
              "      fill: #D2E3FC;\n",
              "    }\n",
              "\n",
              "    [theme=dark] .colab-df-convert:hover {\n",
              "      background-color: #434B5C;\n",
              "      box-shadow: 0px 1px 3px 1px rgba(0, 0, 0, 0.15);\n",
              "      filter: drop-shadow(0px 1px 2px rgba(0, 0, 0, 0.3));\n",
              "      fill: #FFFFFF;\n",
              "    }\n",
              "  </style>\n",
              "\n",
              "      <script>\n",
              "        const buttonEl =\n",
              "          document.querySelector('#df-b0ba0d1f-2538-4960-a844-bc268380b114 button.colab-df-convert');\n",
              "        buttonEl.style.display =\n",
              "          google.colab.kernel.accessAllowed ? 'block' : 'none';\n",
              "\n",
              "        async function convertToInteractive(key) {\n",
              "          const element = document.querySelector('#df-b0ba0d1f-2538-4960-a844-bc268380b114');\n",
              "          const dataTable =\n",
              "            await google.colab.kernel.invokeFunction('convertToInteractive',\n",
              "                                                     [key], {});\n",
              "          if (!dataTable) return;\n",
              "\n",
              "          const docLinkHtml = 'Like what you see? Visit the ' +\n",
              "            '<a target=\"_blank\" href=https://colab.research.google.com/notebooks/data_table.ipynb>data table notebook</a>'\n",
              "            + ' to learn more about interactive tables.';\n",
              "          element.innerHTML = '';\n",
              "          dataTable['output_type'] = 'display_data';\n",
              "          await google.colab.output.renderOutput(dataTable, element);\n",
              "          const docLink = document.createElement('div');\n",
              "          docLink.innerHTML = docLinkHtml;\n",
              "          element.appendChild(docLink);\n",
              "        }\n",
              "      </script>\n",
              "    </div>\n",
              "  </div>\n",
              "  "
            ],
            "text/plain": [
              "                                             title  year\n",
              "16813                              Batman: Anarchy  2016\n",
              "30236                               Batman Forever  1995\n",
              "31674                                Batman Untold  2010\n",
              "31711  Scooby-Doo & Batman: the Brave and the Bold  2018\n",
              "41881                  Batman the Rise of Red Hood  2018\n",
              "43484        Batman: Return of the Caped Crusaders  2016\n",
              "46333                               Batman & Robin  1997\n",
              "51811                              Batman Revealed  2012\n",
              "52734                                       Batman  1943\n",
              "56029                 Batman Beyond: Rising Knight  2014"
            ]
          },
          "metadata": {},
          "execution_count": 11
        }
      ],
      "source": [
        "batman_df = movies[movies.title.str.contains('Batman', case=False)]\n",
        "print('Total Batman Movies:', len(batman_df))\n",
        "batman_df.head(10)"
      ]
    },
    {
      "cell_type": "markdown",
      "metadata": {
        "id": "EaA3sO7OFMyh"
      },
      "source": [
        "### Display the top 15 Batman movies in the order they were released"
      ]
    },
    {
      "cell_type": "code",
      "execution_count": 12,
      "metadata": {
        "id": "i4j5PrqHFMyh",
        "outputId": "806a7773-555f-4f7c-b54e-23d594335fcc",
        "colab": {
          "base_uri": "https://localhost:8080/",
          "height": 520
        }
      },
      "outputs": [
        {
          "output_type": "execute_result",
          "data": {
            "text/html": [
              "\n",
              "  <div id=\"df-31a606d1-2b87-4823-a483-1a3f98a7143e\">\n",
              "    <div class=\"colab-df-container\">\n",
              "      <div>\n",
              "<style scoped>\n",
              "    .dataframe tbody tr th:only-of-type {\n",
              "        vertical-align: middle;\n",
              "    }\n",
              "\n",
              "    .dataframe tbody tr th {\n",
              "        vertical-align: top;\n",
              "    }\n",
              "\n",
              "    .dataframe thead th {\n",
              "        text-align: right;\n",
              "    }\n",
              "</style>\n",
              "<table border=\"1\" class=\"dataframe\">\n",
              "  <thead>\n",
              "    <tr style=\"text-align: right;\">\n",
              "      <th></th>\n",
              "      <th>title</th>\n",
              "      <th>year</th>\n",
              "    </tr>\n",
              "  </thead>\n",
              "  <tbody>\n",
              "    <tr>\n",
              "      <th>52734</th>\n",
              "      <td>Batman</td>\n",
              "      <td>1943</td>\n",
              "    </tr>\n",
              "    <tr>\n",
              "      <th>100056</th>\n",
              "      <td>Batman and Robin</td>\n",
              "      <td>1949</td>\n",
              "    </tr>\n",
              "    <tr>\n",
              "      <th>161439</th>\n",
              "      <td>Batman Dracula</td>\n",
              "      <td>1964</td>\n",
              "    </tr>\n",
              "    <tr>\n",
              "      <th>84327</th>\n",
              "      <td>Alyas Batman at Robin</td>\n",
              "      <td>1965</td>\n",
              "    </tr>\n",
              "    <tr>\n",
              "      <th>68364</th>\n",
              "      <td>James Batman</td>\n",
              "      <td>1966</td>\n",
              "    </tr>\n",
              "    <tr>\n",
              "      <th>161527</th>\n",
              "      <td>Batman: The Movie</td>\n",
              "      <td>1966</td>\n",
              "    </tr>\n",
              "    <tr>\n",
              "      <th>56159</th>\n",
              "      <td>Batman Fights Dracula</td>\n",
              "      <td>1967</td>\n",
              "    </tr>\n",
              "    <tr>\n",
              "      <th>168504</th>\n",
              "      <td>Fight! Batman, Fight!</td>\n",
              "      <td>1973</td>\n",
              "    </tr>\n",
              "    <tr>\n",
              "      <th>150621</th>\n",
              "      <td>Batman</td>\n",
              "      <td>1989</td>\n",
              "    </tr>\n",
              "    <tr>\n",
              "      <th>156239</th>\n",
              "      <td>Alyas Batman en Robin</td>\n",
              "      <td>1991</td>\n",
              "    </tr>\n",
              "    <tr>\n",
              "      <th>156755</th>\n",
              "      <td>Batman Returns</td>\n",
              "      <td>1992</td>\n",
              "    </tr>\n",
              "    <tr>\n",
              "      <th>63366</th>\n",
              "      <td>Batman: Mask of the Phantasm</td>\n",
              "      <td>1993</td>\n",
              "    </tr>\n",
              "    <tr>\n",
              "      <th>30236</th>\n",
              "      <td>Batman Forever</td>\n",
              "      <td>1995</td>\n",
              "    </tr>\n",
              "    <tr>\n",
              "      <th>46333</th>\n",
              "      <td>Batman &amp; Robin</td>\n",
              "      <td>1997</td>\n",
              "    </tr>\n",
              "    <tr>\n",
              "      <th>208220</th>\n",
              "      <td>Batman Begins</td>\n",
              "      <td>2005</td>\n",
              "    </tr>\n",
              "  </tbody>\n",
              "</table>\n",
              "</div>\n",
              "      <button class=\"colab-df-convert\" onclick=\"convertToInteractive('df-31a606d1-2b87-4823-a483-1a3f98a7143e')\"\n",
              "              title=\"Convert this dataframe to an interactive table.\"\n",
              "              style=\"display:none;\">\n",
              "        \n",
              "  <svg xmlns=\"http://www.w3.org/2000/svg\" height=\"24px\"viewBox=\"0 0 24 24\"\n",
              "       width=\"24px\">\n",
              "    <path d=\"M0 0h24v24H0V0z\" fill=\"none\"/>\n",
              "    <path d=\"M18.56 5.44l.94 2.06.94-2.06 2.06-.94-2.06-.94-.94-2.06-.94 2.06-2.06.94zm-11 1L8.5 8.5l.94-2.06 2.06-.94-2.06-.94L8.5 2.5l-.94 2.06-2.06.94zm10 10l.94 2.06.94-2.06 2.06-.94-2.06-.94-.94-2.06-.94 2.06-2.06.94z\"/><path d=\"M17.41 7.96l-1.37-1.37c-.4-.4-.92-.59-1.43-.59-.52 0-1.04.2-1.43.59L10.3 9.45l-7.72 7.72c-.78.78-.78 2.05 0 2.83L4 21.41c.39.39.9.59 1.41.59.51 0 1.02-.2 1.41-.59l7.78-7.78 2.81-2.81c.8-.78.8-2.07 0-2.86zM5.41 20L4 18.59l7.72-7.72 1.47 1.35L5.41 20z\"/>\n",
              "  </svg>\n",
              "      </button>\n",
              "      \n",
              "  <style>\n",
              "    .colab-df-container {\n",
              "      display:flex;\n",
              "      flex-wrap:wrap;\n",
              "      gap: 12px;\n",
              "    }\n",
              "\n",
              "    .colab-df-convert {\n",
              "      background-color: #E8F0FE;\n",
              "      border: none;\n",
              "      border-radius: 50%;\n",
              "      cursor: pointer;\n",
              "      display: none;\n",
              "      fill: #1967D2;\n",
              "      height: 32px;\n",
              "      padding: 0 0 0 0;\n",
              "      width: 32px;\n",
              "    }\n",
              "\n",
              "    .colab-df-convert:hover {\n",
              "      background-color: #E2EBFA;\n",
              "      box-shadow: 0px 1px 2px rgba(60, 64, 67, 0.3), 0px 1px 3px 1px rgba(60, 64, 67, 0.15);\n",
              "      fill: #174EA6;\n",
              "    }\n",
              "\n",
              "    [theme=dark] .colab-df-convert {\n",
              "      background-color: #3B4455;\n",
              "      fill: #D2E3FC;\n",
              "    }\n",
              "\n",
              "    [theme=dark] .colab-df-convert:hover {\n",
              "      background-color: #434B5C;\n",
              "      box-shadow: 0px 1px 3px 1px rgba(0, 0, 0, 0.15);\n",
              "      filter: drop-shadow(0px 1px 2px rgba(0, 0, 0, 0.3));\n",
              "      fill: #FFFFFF;\n",
              "    }\n",
              "  </style>\n",
              "\n",
              "      <script>\n",
              "        const buttonEl =\n",
              "          document.querySelector('#df-31a606d1-2b87-4823-a483-1a3f98a7143e button.colab-df-convert');\n",
              "        buttonEl.style.display =\n",
              "          google.colab.kernel.accessAllowed ? 'block' : 'none';\n",
              "\n",
              "        async function convertToInteractive(key) {\n",
              "          const element = document.querySelector('#df-31a606d1-2b87-4823-a483-1a3f98a7143e');\n",
              "          const dataTable =\n",
              "            await google.colab.kernel.invokeFunction('convertToInteractive',\n",
              "                                                     [key], {});\n",
              "          if (!dataTable) return;\n",
              "\n",
              "          const docLinkHtml = 'Like what you see? Visit the ' +\n",
              "            '<a target=\"_blank\" href=https://colab.research.google.com/notebooks/data_table.ipynb>data table notebook</a>'\n",
              "            + ' to learn more about interactive tables.';\n",
              "          element.innerHTML = '';\n",
              "          dataTable['output_type'] = 'display_data';\n",
              "          await google.colab.output.renderOutput(dataTable, element);\n",
              "          const docLink = document.createElement('div');\n",
              "          docLink.innerHTML = docLinkHtml;\n",
              "          element.appendChild(docLink);\n",
              "        }\n",
              "      </script>\n",
              "    </div>\n",
              "  </div>\n",
              "  "
            ],
            "text/plain": [
              "                               title  year\n",
              "52734                         Batman  1943\n",
              "100056              Batman and Robin  1949\n",
              "161439                Batman Dracula  1964\n",
              "84327          Alyas Batman at Robin  1965\n",
              "68364                   James Batman  1966\n",
              "161527             Batman: The Movie  1966\n",
              "56159          Batman Fights Dracula  1967\n",
              "168504         Fight! Batman, Fight!  1973\n",
              "150621                        Batman  1989\n",
              "156239         Alyas Batman en Robin  1991\n",
              "156755                Batman Returns  1992\n",
              "63366   Batman: Mask of the Phantasm  1993\n",
              "30236                 Batman Forever  1995\n",
              "46333                 Batman & Robin  1997\n",
              "208220                 Batman Begins  2005"
            ]
          },
          "metadata": {},
          "execution_count": 12
        }
      ],
      "source": [
        "batman_df.sort_values(by=['year'], ascending=True).iloc[:15]"
      ]
    },
    {
      "cell_type": "markdown",
      "metadata": {
        "id": "r0MZRzXbFMyh"
      },
      "source": [
        "### Section I - Q1 : List all the 'Harry Potter' movies from the most recent to the earliest"
      ]
    },
    {
      "cell_type": "code",
      "execution_count": 13,
      "metadata": {
        "id": "A0Sv5cDbFMyh",
        "outputId": "12931e9e-a650-4128-9cbe-99d5a475e5c1",
        "colab": {
          "base_uri": "https://localhost:8080/",
          "height": 318
        }
      },
      "outputs": [
        {
          "output_type": "stream",
          "name": "stdout",
          "text": [
            "Total Harry Potter Movies: 8\n"
          ]
        },
        {
          "output_type": "execute_result",
          "data": {
            "text/html": [
              "\n",
              "  <div id=\"df-d420d0c8-ecbc-4795-99bd-54230131ca48\">\n",
              "    <div class=\"colab-df-container\">\n",
              "      <div>\n",
              "<style scoped>\n",
              "    .dataframe tbody tr th:only-of-type {\n",
              "        vertical-align: middle;\n",
              "    }\n",
              "\n",
              "    .dataframe tbody tr th {\n",
              "        vertical-align: top;\n",
              "    }\n",
              "\n",
              "    .dataframe thead th {\n",
              "        text-align: right;\n",
              "    }\n",
              "</style>\n",
              "<table border=\"1\" class=\"dataframe\">\n",
              "  <thead>\n",
              "    <tr style=\"text-align: right;\">\n",
              "      <th></th>\n",
              "      <th>title</th>\n",
              "      <th>year</th>\n",
              "    </tr>\n",
              "  </thead>\n",
              "  <tbody>\n",
              "    <tr>\n",
              "      <th>143147</th>\n",
              "      <td>Harry Potter and the Deathly Hallows: Part 2</td>\n",
              "      <td>2011</td>\n",
              "    </tr>\n",
              "    <tr>\n",
              "      <th>152831</th>\n",
              "      <td>Harry Potter and the Deathly Hallows: Part 1</td>\n",
              "      <td>2010</td>\n",
              "    </tr>\n",
              "    <tr>\n",
              "      <th>109213</th>\n",
              "      <td>Harry Potter and the Half-Blood Prince</td>\n",
              "      <td>2009</td>\n",
              "    </tr>\n",
              "    <tr>\n",
              "      <th>50581</th>\n",
              "      <td>Harry Potter and the Order of the Phoenix</td>\n",
              "      <td>2007</td>\n",
              "    </tr>\n",
              "    <tr>\n",
              "      <th>187926</th>\n",
              "      <td>Harry Potter and the Goblet of Fire</td>\n",
              "      <td>2005</td>\n",
              "    </tr>\n",
              "    <tr>\n",
              "      <th>61957</th>\n",
              "      <td>Harry Potter and the Prisoner of Azkaban</td>\n",
              "      <td>2004</td>\n",
              "    </tr>\n",
              "    <tr>\n",
              "      <th>82791</th>\n",
              "      <td>Harry Potter and the Chamber of Secrets</td>\n",
              "      <td>2002</td>\n",
              "    </tr>\n",
              "    <tr>\n",
              "      <th>223087</th>\n",
              "      <td>Harry Potter and the Sorcerer's Stone</td>\n",
              "      <td>2001</td>\n",
              "    </tr>\n",
              "  </tbody>\n",
              "</table>\n",
              "</div>\n",
              "      <button class=\"colab-df-convert\" onclick=\"convertToInteractive('df-d420d0c8-ecbc-4795-99bd-54230131ca48')\"\n",
              "              title=\"Convert this dataframe to an interactive table.\"\n",
              "              style=\"display:none;\">\n",
              "        \n",
              "  <svg xmlns=\"http://www.w3.org/2000/svg\" height=\"24px\"viewBox=\"0 0 24 24\"\n",
              "       width=\"24px\">\n",
              "    <path d=\"M0 0h24v24H0V0z\" fill=\"none\"/>\n",
              "    <path d=\"M18.56 5.44l.94 2.06.94-2.06 2.06-.94-2.06-.94-.94-2.06-.94 2.06-2.06.94zm-11 1L8.5 8.5l.94-2.06 2.06-.94-2.06-.94L8.5 2.5l-.94 2.06-2.06.94zm10 10l.94 2.06.94-2.06 2.06-.94-2.06-.94-.94-2.06-.94 2.06-2.06.94z\"/><path d=\"M17.41 7.96l-1.37-1.37c-.4-.4-.92-.59-1.43-.59-.52 0-1.04.2-1.43.59L10.3 9.45l-7.72 7.72c-.78.78-.78 2.05 0 2.83L4 21.41c.39.39.9.59 1.41.59.51 0 1.02-.2 1.41-.59l7.78-7.78 2.81-2.81c.8-.78.8-2.07 0-2.86zM5.41 20L4 18.59l7.72-7.72 1.47 1.35L5.41 20z\"/>\n",
              "  </svg>\n",
              "      </button>\n",
              "      \n",
              "  <style>\n",
              "    .colab-df-container {\n",
              "      display:flex;\n",
              "      flex-wrap:wrap;\n",
              "      gap: 12px;\n",
              "    }\n",
              "\n",
              "    .colab-df-convert {\n",
              "      background-color: #E8F0FE;\n",
              "      border: none;\n",
              "      border-radius: 50%;\n",
              "      cursor: pointer;\n",
              "      display: none;\n",
              "      fill: #1967D2;\n",
              "      height: 32px;\n",
              "      padding: 0 0 0 0;\n",
              "      width: 32px;\n",
              "    }\n",
              "\n",
              "    .colab-df-convert:hover {\n",
              "      background-color: #E2EBFA;\n",
              "      box-shadow: 0px 1px 2px rgba(60, 64, 67, 0.3), 0px 1px 3px 1px rgba(60, 64, 67, 0.15);\n",
              "      fill: #174EA6;\n",
              "    }\n",
              "\n",
              "    [theme=dark] .colab-df-convert {\n",
              "      background-color: #3B4455;\n",
              "      fill: #D2E3FC;\n",
              "    }\n",
              "\n",
              "    [theme=dark] .colab-df-convert:hover {\n",
              "      background-color: #434B5C;\n",
              "      box-shadow: 0px 1px 3px 1px rgba(0, 0, 0, 0.15);\n",
              "      filter: drop-shadow(0px 1px 2px rgba(0, 0, 0, 0.3));\n",
              "      fill: #FFFFFF;\n",
              "    }\n",
              "  </style>\n",
              "\n",
              "      <script>\n",
              "        const buttonEl =\n",
              "          document.querySelector('#df-d420d0c8-ecbc-4795-99bd-54230131ca48 button.colab-df-convert');\n",
              "        buttonEl.style.display =\n",
              "          google.colab.kernel.accessAllowed ? 'block' : 'none';\n",
              "\n",
              "        async function convertToInteractive(key) {\n",
              "          const element = document.querySelector('#df-d420d0c8-ecbc-4795-99bd-54230131ca48');\n",
              "          const dataTable =\n",
              "            await google.colab.kernel.invokeFunction('convertToInteractive',\n",
              "                                                     [key], {});\n",
              "          if (!dataTable) return;\n",
              "\n",
              "          const docLinkHtml = 'Like what you see? Visit the ' +\n",
              "            '<a target=\"_blank\" href=https://colab.research.google.com/notebooks/data_table.ipynb>data table notebook</a>'\n",
              "            + ' to learn more about interactive tables.';\n",
              "          element.innerHTML = '';\n",
              "          dataTable['output_type'] = 'display_data';\n",
              "          await google.colab.output.renderOutput(dataTable, element);\n",
              "          const docLink = document.createElement('div');\n",
              "          docLink.innerHTML = docLinkHtml;\n",
              "          element.appendChild(docLink);\n",
              "        }\n",
              "      </script>\n",
              "    </div>\n",
              "  </div>\n",
              "  "
            ],
            "text/plain": [
              "                                               title  year\n",
              "143147  Harry Potter and the Deathly Hallows: Part 2  2011\n",
              "152831  Harry Potter and the Deathly Hallows: Part 1  2010\n",
              "109213        Harry Potter and the Half-Blood Prince  2009\n",
              "50581      Harry Potter and the Order of the Phoenix  2007\n",
              "187926           Harry Potter and the Goblet of Fire  2005\n",
              "61957       Harry Potter and the Prisoner of Azkaban  2004\n",
              "82791        Harry Potter and the Chamber of Secrets  2002\n",
              "223087         Harry Potter and the Sorcerer's Stone  2001"
            ]
          },
          "metadata": {},
          "execution_count": 13
        }
      ],
      "source": [
        "harry_potter_df =  movies[movies.title.str.contains('Harry Potter', case=False)]\n",
        "print('Total Harry Potter Movies:', len(harry_potter_df))\n",
        "harry_potter_df.sort_values(by = 'year', ascending = False)"
      ]
    },
    {
      "cell_type": "markdown",
      "metadata": {
        "id": "oz7_8MvRFMyi"
      },
      "source": [
        "### How many movies were made in the year 2017?"
      ]
    },
    {
      "cell_type": "code",
      "execution_count": 14,
      "metadata": {
        "id": "tLEgQD_QFMyi",
        "outputId": "ff35a07a-b168-41cc-8c10-ce99f4a47b62",
        "colab": {
          "base_uri": "https://localhost:8080/"
        }
      },
      "outputs": [
        {
          "output_type": "execute_result",
          "data": {
            "text/plain": [
              "11474"
            ]
          },
          "metadata": {},
          "execution_count": 14
        }
      ],
      "source": [
        "len(movies[movies.year == 2017])"
      ]
    },
    {
      "cell_type": "markdown",
      "metadata": {
        "id": "6TWm9OGZFMyi"
      },
      "source": [
        "### Section I - Q2 : How many movies were made in the year 2015?"
      ]
    },
    {
      "cell_type": "code",
      "execution_count": 15,
      "metadata": {
        "id": "KHGMdk54FMyi",
        "outputId": "837f9c33-df23-4cac-bff5-18901dfb7eee",
        "colab": {
          "base_uri": "https://localhost:8080/"
        }
      },
      "outputs": [
        {
          "output_type": "execute_result",
          "data": {
            "text/plain": [
              "8702"
            ]
          },
          "metadata": {},
          "execution_count": 15
        }
      ],
      "source": [
        "len(movies[movies.year == 2015])"
      ]
    },
    {
      "cell_type": "markdown",
      "metadata": {
        "id": "v14UZEwGFMyi"
      },
      "source": [
        "### Section I - Q3 : How many movies were made from 2000 till 2018?\n",
        "- You can chain multiple conditions using OR (`|`) as well as AND (`&`) depending on the condition"
      ]
    },
    {
      "cell_type": "code",
      "execution_count": 16,
      "metadata": {
        "id": "R_yWKMMOFMyi",
        "outputId": "1a552fd8-8f81-49bc-ad6d-1ab3ce2fc6e8",
        "colab": {
          "base_uri": "https://localhost:8080/"
        }
      },
      "outputs": [
        {
          "output_type": "execute_result",
          "data": {
            "text/plain": [
              "106029"
            ]
          },
          "metadata": {},
          "execution_count": 16
        }
      ],
      "source": [
        "len(movies[(movies.year >= 2000) & (movies.year < 2018)])"
      ]
    },
    {
      "cell_type": "markdown",
      "metadata": {
        "id": "aqibumVnFMyj"
      },
      "source": [
        "### Section I - Q4: How many movies are titled \"Hamlet\"?"
      ]
    },
    {
      "cell_type": "code",
      "execution_count": 17,
      "metadata": {
        "id": "_bBiEWO9FMyj",
        "outputId": "5cd7ee97-394c-4440-be6d-2276360be4d9",
        "colab": {
          "base_uri": "https://localhost:8080/"
        }
      },
      "outputs": [
        {
          "output_type": "execute_result",
          "data": {
            "text/plain": [
              "57"
            ]
          },
          "metadata": {},
          "execution_count": 17
        }
      ],
      "source": [
        "len(movies[movies.title.str.contains('Hamlet', case = False)])"
      ]
    },
    {
      "cell_type": "markdown",
      "metadata": {
        "id": "QoadZAuFFMyj"
      },
      "source": [
        "### Section I - Q5: List all movies titled \"Hamlet\" \n",
        "- The movies should only have been released on or after the year 2000\n",
        "- Display the movies based on the year they were released (earliest to most recent)"
      ]
    },
    {
      "cell_type": "code",
      "execution_count": 18,
      "metadata": {
        "id": "EZHA2C1iFMyj",
        "outputId": "094514df-f4a1-4302-c073-70e865eeb12e",
        "colab": {
          "base_uri": "https://localhost:8080/",
          "height": 1000
        }
      },
      "outputs": [
        {
          "output_type": "execute_result",
          "data": {
            "text/html": [
              "\n",
              "  <div id=\"df-89292787-7217-4204-a546-48a2ef9b1390\">\n",
              "    <div class=\"colab-df-container\">\n",
              "      <div>\n",
              "<style scoped>\n",
              "    .dataframe tbody tr th:only-of-type {\n",
              "        vertical-align: middle;\n",
              "    }\n",
              "\n",
              "    .dataframe tbody tr th {\n",
              "        vertical-align: top;\n",
              "    }\n",
              "\n",
              "    .dataframe thead th {\n",
              "        text-align: right;\n",
              "    }\n",
              "</style>\n",
              "<table border=\"1\" class=\"dataframe\">\n",
              "  <thead>\n",
              "    <tr style=\"text-align: right;\">\n",
              "      <th></th>\n",
              "      <th>title</th>\n",
              "      <th>year</th>\n",
              "    </tr>\n",
              "  </thead>\n",
              "  <tbody>\n",
              "    <tr>\n",
              "      <th>55639</th>\n",
              "      <td>Hamlet</td>\n",
              "      <td>2000</td>\n",
              "    </tr>\n",
              "    <tr>\n",
              "      <th>55525</th>\n",
              "      <td>Hamlet in the Hamptons</td>\n",
              "      <td>2002</td>\n",
              "    </tr>\n",
              "    <tr>\n",
              "      <th>137905</th>\n",
              "      <td>Hamlet_X</td>\n",
              "      <td>2003</td>\n",
              "    </tr>\n",
              "    <tr>\n",
              "      <th>218468</th>\n",
              "      <td>Hamlet X</td>\n",
              "      <td>2004</td>\n",
              "    </tr>\n",
              "    <tr>\n",
              "      <th>40045</th>\n",
              "      <td>Hamlet (II)</td>\n",
              "      <td>2005</td>\n",
              "    </tr>\n",
              "    <tr>\n",
              "      <th>152920</th>\n",
              "      <td>Dogg's Hamlet, Cahoot's Macbeth</td>\n",
              "      <td>2005</td>\n",
              "    </tr>\n",
              "    <tr>\n",
              "      <th>200246</th>\n",
              "      <td>The Tragedy of Hamlet Prince of Denmark</td>\n",
              "      <td>2007</td>\n",
              "    </tr>\n",
              "    <tr>\n",
              "      <th>176528</th>\n",
              "      <td>Hamlet (II)</td>\n",
              "      <td>2007</td>\n",
              "    </tr>\n",
              "    <tr>\n",
              "      <th>156899</th>\n",
              "      <td>Hamlet (III)</td>\n",
              "      <td>2007</td>\n",
              "    </tr>\n",
              "    <tr>\n",
              "      <th>52408</th>\n",
              "      <td>Hamlet the Vampire Slayer</td>\n",
              "      <td>2008</td>\n",
              "    </tr>\n",
              "    <tr>\n",
              "      <th>141237</th>\n",
              "      <td>Hamlet 2</td>\n",
              "      <td>2008</td>\n",
              "    </tr>\n",
              "    <tr>\n",
              "      <th>191734</th>\n",
              "      <td>Kitchen Hamlet</td>\n",
              "      <td>2009</td>\n",
              "    </tr>\n",
              "    <tr>\n",
              "      <th>1931</th>\n",
              "      <td>Hamlet</td>\n",
              "      <td>2009</td>\n",
              "    </tr>\n",
              "    <tr>\n",
              "      <th>227953</th>\n",
              "      <td>Hamlet</td>\n",
              "      <td>2011</td>\n",
              "    </tr>\n",
              "    <tr>\n",
              "      <th>220674</th>\n",
              "      <td>Hamlet Demonstration</td>\n",
              "      <td>2011</td>\n",
              "    </tr>\n",
              "    <tr>\n",
              "      <th>51236</th>\n",
              "      <td>Hamlet Unbound</td>\n",
              "      <td>2012</td>\n",
              "    </tr>\n",
              "    <tr>\n",
              "      <th>17833</th>\n",
              "      <td>Zombie Hamlet</td>\n",
              "      <td>2012</td>\n",
              "    </tr>\n",
              "    <tr>\n",
              "      <th>186136</th>\n",
              "      <td>Harry, Hamlet and I</td>\n",
              "      <td>2013</td>\n",
              "    </tr>\n",
              "    <tr>\n",
              "      <th>178290</th>\n",
              "      <td>Hamlet</td>\n",
              "      <td>2014</td>\n",
              "    </tr>\n",
              "    <tr>\n",
              "      <th>10364</th>\n",
              "      <td>Hamlet A.D.D.</td>\n",
              "      <td>2014</td>\n",
              "    </tr>\n",
              "    <tr>\n",
              "      <th>186137</th>\n",
              "      <td>Hamlet</td>\n",
              "      <td>2015</td>\n",
              "    </tr>\n",
              "    <tr>\n",
              "      <th>133802</th>\n",
              "      <td>National Theatre Live: Hamlet</td>\n",
              "      <td>2015</td>\n",
              "    </tr>\n",
              "    <tr>\n",
              "      <th>44571</th>\n",
              "      <td>Hamlet (II)</td>\n",
              "      <td>2015</td>\n",
              "    </tr>\n",
              "    <tr>\n",
              "      <th>17531</th>\n",
              "      <td>Hamlet's Ghost</td>\n",
              "      <td>2015</td>\n",
              "    </tr>\n",
              "    <tr>\n",
              "      <th>209533</th>\n",
              "      <td>Hamlet, Son of a Kingpin</td>\n",
              "      <td>2015</td>\n",
              "    </tr>\n",
              "    <tr>\n",
              "      <th>70547</th>\n",
              "      <td>Royal Shakespeare Company: Hamlet</td>\n",
              "      <td>2016</td>\n",
              "    </tr>\n",
              "    <tr>\n",
              "      <th>191940</th>\n",
              "      <td>Hamlet</td>\n",
              "      <td>2016</td>\n",
              "    </tr>\n",
              "    <tr>\n",
              "      <th>98329</th>\n",
              "      <td>Hamlet (II)</td>\n",
              "      <td>2017</td>\n",
              "    </tr>\n",
              "    <tr>\n",
              "      <th>50271</th>\n",
              "      <td>Hamlet/Horatio</td>\n",
              "      <td>2017</td>\n",
              "    </tr>\n",
              "    <tr>\n",
              "      <th>240089</th>\n",
              "      <td>Hamlet in the Golden Vale</td>\n",
              "      <td>2017</td>\n",
              "    </tr>\n",
              "    <tr>\n",
              "      <th>244747</th>\n",
              "      <td>Hamlet</td>\n",
              "      <td>2017</td>\n",
              "    </tr>\n",
              "    <tr>\n",
              "      <th>78217</th>\n",
              "      <td>Hamlet: The Fall of a Sparrow</td>\n",
              "      <td>2018</td>\n",
              "    </tr>\n",
              "  </tbody>\n",
              "</table>\n",
              "</div>\n",
              "      <button class=\"colab-df-convert\" onclick=\"convertToInteractive('df-89292787-7217-4204-a546-48a2ef9b1390')\"\n",
              "              title=\"Convert this dataframe to an interactive table.\"\n",
              "              style=\"display:none;\">\n",
              "        \n",
              "  <svg xmlns=\"http://www.w3.org/2000/svg\" height=\"24px\"viewBox=\"0 0 24 24\"\n",
              "       width=\"24px\">\n",
              "    <path d=\"M0 0h24v24H0V0z\" fill=\"none\"/>\n",
              "    <path d=\"M18.56 5.44l.94 2.06.94-2.06 2.06-.94-2.06-.94-.94-2.06-.94 2.06-2.06.94zm-11 1L8.5 8.5l.94-2.06 2.06-.94-2.06-.94L8.5 2.5l-.94 2.06-2.06.94zm10 10l.94 2.06.94-2.06 2.06-.94-2.06-.94-.94-2.06-.94 2.06-2.06.94z\"/><path d=\"M17.41 7.96l-1.37-1.37c-.4-.4-.92-.59-1.43-.59-.52 0-1.04.2-1.43.59L10.3 9.45l-7.72 7.72c-.78.78-.78 2.05 0 2.83L4 21.41c.39.39.9.59 1.41.59.51 0 1.02-.2 1.41-.59l7.78-7.78 2.81-2.81c.8-.78.8-2.07 0-2.86zM5.41 20L4 18.59l7.72-7.72 1.47 1.35L5.41 20z\"/>\n",
              "  </svg>\n",
              "      </button>\n",
              "      \n",
              "  <style>\n",
              "    .colab-df-container {\n",
              "      display:flex;\n",
              "      flex-wrap:wrap;\n",
              "      gap: 12px;\n",
              "    }\n",
              "\n",
              "    .colab-df-convert {\n",
              "      background-color: #E8F0FE;\n",
              "      border: none;\n",
              "      border-radius: 50%;\n",
              "      cursor: pointer;\n",
              "      display: none;\n",
              "      fill: #1967D2;\n",
              "      height: 32px;\n",
              "      padding: 0 0 0 0;\n",
              "      width: 32px;\n",
              "    }\n",
              "\n",
              "    .colab-df-convert:hover {\n",
              "      background-color: #E2EBFA;\n",
              "      box-shadow: 0px 1px 2px rgba(60, 64, 67, 0.3), 0px 1px 3px 1px rgba(60, 64, 67, 0.15);\n",
              "      fill: #174EA6;\n",
              "    }\n",
              "\n",
              "    [theme=dark] .colab-df-convert {\n",
              "      background-color: #3B4455;\n",
              "      fill: #D2E3FC;\n",
              "    }\n",
              "\n",
              "    [theme=dark] .colab-df-convert:hover {\n",
              "      background-color: #434B5C;\n",
              "      box-shadow: 0px 1px 3px 1px rgba(0, 0, 0, 0.15);\n",
              "      filter: drop-shadow(0px 1px 2px rgba(0, 0, 0, 0.3));\n",
              "      fill: #FFFFFF;\n",
              "    }\n",
              "  </style>\n",
              "\n",
              "      <script>\n",
              "        const buttonEl =\n",
              "          document.querySelector('#df-89292787-7217-4204-a546-48a2ef9b1390 button.colab-df-convert');\n",
              "        buttonEl.style.display =\n",
              "          google.colab.kernel.accessAllowed ? 'block' : 'none';\n",
              "\n",
              "        async function convertToInteractive(key) {\n",
              "          const element = document.querySelector('#df-89292787-7217-4204-a546-48a2ef9b1390');\n",
              "          const dataTable =\n",
              "            await google.colab.kernel.invokeFunction('convertToInteractive',\n",
              "                                                     [key], {});\n",
              "          if (!dataTable) return;\n",
              "\n",
              "          const docLinkHtml = 'Like what you see? Visit the ' +\n",
              "            '<a target=\"_blank\" href=https://colab.research.google.com/notebooks/data_table.ipynb>data table notebook</a>'\n",
              "            + ' to learn more about interactive tables.';\n",
              "          element.innerHTML = '';\n",
              "          dataTable['output_type'] = 'display_data';\n",
              "          await google.colab.output.renderOutput(dataTable, element);\n",
              "          const docLink = document.createElement('div');\n",
              "          docLink.innerHTML = docLinkHtml;\n",
              "          element.appendChild(docLink);\n",
              "        }\n",
              "      </script>\n",
              "    </div>\n",
              "  </div>\n",
              "  "
            ],
            "text/plain": [
              "                                          title  year\n",
              "55639                                    Hamlet  2000\n",
              "55525                    Hamlet in the Hamptons  2002\n",
              "137905                                 Hamlet_X  2003\n",
              "218468                                 Hamlet X  2004\n",
              "40045                               Hamlet (II)  2005\n",
              "152920          Dogg's Hamlet, Cahoot's Macbeth  2005\n",
              "200246  The Tragedy of Hamlet Prince of Denmark  2007\n",
              "176528                              Hamlet (II)  2007\n",
              "156899                             Hamlet (III)  2007\n",
              "52408                 Hamlet the Vampire Slayer  2008\n",
              "141237                                 Hamlet 2  2008\n",
              "191734                           Kitchen Hamlet  2009\n",
              "1931                                     Hamlet  2009\n",
              "227953                                   Hamlet  2011\n",
              "220674                     Hamlet Demonstration  2011\n",
              "51236                            Hamlet Unbound  2012\n",
              "17833                             Zombie Hamlet  2012\n",
              "186136                      Harry, Hamlet and I  2013\n",
              "178290                                   Hamlet  2014\n",
              "10364                             Hamlet A.D.D.  2014\n",
              "186137                                   Hamlet  2015\n",
              "133802            National Theatre Live: Hamlet  2015\n",
              "44571                               Hamlet (II)  2015\n",
              "17531                            Hamlet's Ghost  2015\n",
              "209533                 Hamlet, Son of a Kingpin  2015\n",
              "70547         Royal Shakespeare Company: Hamlet  2016\n",
              "191940                                   Hamlet  2016\n",
              "98329                               Hamlet (II)  2017\n",
              "50271                            Hamlet/Horatio  2017\n",
              "240089                Hamlet in the Golden Vale  2017\n",
              "244747                                   Hamlet  2017\n",
              "78217             Hamlet: The Fall of a Sparrow  2018"
            ]
          },
          "metadata": {},
          "execution_count": 18
        }
      ],
      "source": [
        "hamlet_df = movies[movies.title.str.contains('Hamlet', case = False) & (movies.year >= 2000)]\n",
        "hamlet_df.sort_values(by = 'year', ascending = True )"
      ]
    },
    {
      "cell_type": "markdown",
      "metadata": {
        "id": "3Tdyjps-FMyj"
      },
      "source": [
        "### Section I - Q6: How many roles in the movie \"Inception\" are of the supporting cast (extra credits)\n",
        "- supporting cast are NOT ranked by an \"n\" value (NaN)\n",
        "- check for how to filter based on nulls"
      ]
    },
    {
      "cell_type": "code",
      "execution_count": 19,
      "metadata": {
        "id": "leYfC_xEFMyj",
        "outputId": "85e37b0b-2ff5-427e-9c89-df0be4bb2855",
        "colab": {
          "base_uri": "https://localhost:8080/"
        }
      },
      "outputs": [
        {
          "output_type": "execute_result",
          "data": {
            "text/plain": [
              "27"
            ]
          },
          "metadata": {},
          "execution_count": 19
        }
      ],
      "source": [
        "len(cast[(cast.title =='Inception') & (cast.n.isna())])"
      ]
    },
    {
      "cell_type": "markdown",
      "metadata": {
        "id": "L65bVmPJFMyk"
      },
      "source": [
        "### Section I - Q7: How many roles in the movie \"Inception\" are of the main cast\n",
        "- main cast always have an 'n' value"
      ]
    },
    {
      "cell_type": "code",
      "execution_count": 20,
      "metadata": {
        "id": "bvmvC7wuFMyk",
        "outputId": "baf14fbd-f69d-4320-d5e0-82f4ccfa536f",
        "colab": {
          "base_uri": "https://localhost:8080/"
        }
      },
      "outputs": [
        {
          "output_type": "execute_result",
          "data": {
            "text/plain": [
              "51"
            ]
          },
          "metadata": {},
          "execution_count": 20
        }
      ],
      "source": [
        "len(cast[(cast.title =='Inception') & (~cast.n.isna())])"
      ]
    },
    {
      "cell_type": "markdown",
      "metadata": {
        "id": "1eyRWdAmFMyk"
      },
      "source": [
        "### Section I - Q8: Show the top ten cast (actors\\actresses) in the movie \"Inception\" \n",
        "- main cast always have an 'n' value\n",
        "- remember to sort!"
      ]
    },
    {
      "cell_type": "code",
      "execution_count": 21,
      "metadata": {
        "id": "eIvTpShnFMyk",
        "outputId": "6f9cd41a-9ca6-4d9f-820e-a014d579c703",
        "colab": {
          "base_uri": "https://localhost:8080/",
          "height": 520
        }
      },
      "outputs": [
        {
          "output_type": "execute_result",
          "data": {
            "text/html": [
              "\n",
              "  <div id=\"df-a01c7c68-692e-46f7-84cb-d3bef545aac5\">\n",
              "    <div class=\"colab-df-container\">\n",
              "      <div>\n",
              "<style scoped>\n",
              "    .dataframe tbody tr th:only-of-type {\n",
              "        vertical-align: middle;\n",
              "    }\n",
              "\n",
              "    .dataframe tbody tr th {\n",
              "        vertical-align: top;\n",
              "    }\n",
              "\n",
              "    .dataframe thead th {\n",
              "        text-align: right;\n",
              "    }\n",
              "</style>\n",
              "<table border=\"1\" class=\"dataframe\">\n",
              "  <thead>\n",
              "    <tr style=\"text-align: right;\">\n",
              "      <th></th>\n",
              "      <th>title</th>\n",
              "      <th>year</th>\n",
              "      <th>name</th>\n",
              "      <th>type</th>\n",
              "      <th>character</th>\n",
              "      <th>n</th>\n",
              "    </tr>\n",
              "  </thead>\n",
              "  <tbody>\n",
              "    <tr>\n",
              "      <th>590576</th>\n",
              "      <td>Inception</td>\n",
              "      <td>2010</td>\n",
              "      <td>Leonardo DiCaprio</td>\n",
              "      <td>actor</td>\n",
              "      <td>Cobb</td>\n",
              "      <td>1.0</td>\n",
              "    </tr>\n",
              "    <tr>\n",
              "      <th>859993</th>\n",
              "      <td>Inception</td>\n",
              "      <td>2010</td>\n",
              "      <td>Joseph Gordon-Levitt</td>\n",
              "      <td>actor</td>\n",
              "      <td>Arthur</td>\n",
              "      <td>2.0</td>\n",
              "    </tr>\n",
              "    <tr>\n",
              "      <th>3387147</th>\n",
              "      <td>Inception</td>\n",
              "      <td>2010</td>\n",
              "      <td>Ellen Page</td>\n",
              "      <td>actress</td>\n",
              "      <td>Ariadne</td>\n",
              "      <td>3.0</td>\n",
              "    </tr>\n",
              "    <tr>\n",
              "      <th>940923</th>\n",
              "      <td>Inception</td>\n",
              "      <td>2010</td>\n",
              "      <td>Tom Hardy</td>\n",
              "      <td>actor</td>\n",
              "      <td>Eames</td>\n",
              "      <td>4.0</td>\n",
              "    </tr>\n",
              "    <tr>\n",
              "      <th>2406531</th>\n",
              "      <td>Inception</td>\n",
              "      <td>2010</td>\n",
              "      <td>Ken Watanabe</td>\n",
              "      <td>actor</td>\n",
              "      <td>Saito</td>\n",
              "      <td>5.0</td>\n",
              "    </tr>\n",
              "    <tr>\n",
              "      <th>1876301</th>\n",
              "      <td>Inception</td>\n",
              "      <td>2010</td>\n",
              "      <td>Dileep Rao</td>\n",
              "      <td>actor</td>\n",
              "      <td>Yusuf</td>\n",
              "      <td>6.0</td>\n",
              "    </tr>\n",
              "    <tr>\n",
              "      <th>1615709</th>\n",
              "      <td>Inception</td>\n",
              "      <td>2010</td>\n",
              "      <td>Cillian Murphy</td>\n",
              "      <td>actor</td>\n",
              "      <td>Robert Fischer</td>\n",
              "      <td>7.0</td>\n",
              "    </tr>\n",
              "    <tr>\n",
              "      <th>183937</th>\n",
              "      <td>Inception</td>\n",
              "      <td>2010</td>\n",
              "      <td>Tom Berenger</td>\n",
              "      <td>actor</td>\n",
              "      <td>Browning</td>\n",
              "      <td>8.0</td>\n",
              "    </tr>\n",
              "    <tr>\n",
              "      <th>2765969</th>\n",
              "      <td>Inception</td>\n",
              "      <td>2010</td>\n",
              "      <td>Marion Cotillard</td>\n",
              "      <td>actress</td>\n",
              "      <td>Mal</td>\n",
              "      <td>9.0</td>\n",
              "    </tr>\n",
              "    <tr>\n",
              "      <th>1826027</th>\n",
              "      <td>Inception</td>\n",
              "      <td>2010</td>\n",
              "      <td>Pete Postlethwaite</td>\n",
              "      <td>actor</td>\n",
              "      <td>Maurice Fischer</td>\n",
              "      <td>10.0</td>\n",
              "    </tr>\n",
              "    <tr>\n",
              "      <th>326745</th>\n",
              "      <td>Inception</td>\n",
              "      <td>2010</td>\n",
              "      <td>Michael Caine</td>\n",
              "      <td>actor</td>\n",
              "      <td>Miles</td>\n",
              "      <td>11.0</td>\n",
              "    </tr>\n",
              "    <tr>\n",
              "      <th>910757</th>\n",
              "      <td>Inception</td>\n",
              "      <td>2010</td>\n",
              "      <td>Lukas Haas</td>\n",
              "      <td>actor</td>\n",
              "      <td>Nash</td>\n",
              "      <td>12.0</td>\n",
              "    </tr>\n",
              "    <tr>\n",
              "      <th>1309851</th>\n",
              "      <td>Inception</td>\n",
              "      <td>2010</td>\n",
              "      <td>Tai-Li Lee</td>\n",
              "      <td>actor</td>\n",
              "      <td>Tadashi</td>\n",
              "      <td>13.0</td>\n",
              "    </tr>\n",
              "    <tr>\n",
              "      <th>2932657</th>\n",
              "      <td>Inception</td>\n",
              "      <td>2010</td>\n",
              "      <td>Claire Geare</td>\n",
              "      <td>actress</td>\n",
              "      <td>Phillipa (3 years)</td>\n",
              "      <td>14.0</td>\n",
              "    </tr>\n",
              "    <tr>\n",
              "      <th>1668790</th>\n",
              "      <td>Inception</td>\n",
              "      <td>2010</td>\n",
              "      <td>Magnus Nolan</td>\n",
              "      <td>actor</td>\n",
              "      <td>James (20 months)</td>\n",
              "      <td>15.0</td>\n",
              "    </tr>\n",
              "  </tbody>\n",
              "</table>\n",
              "</div>\n",
              "      <button class=\"colab-df-convert\" onclick=\"convertToInteractive('df-a01c7c68-692e-46f7-84cb-d3bef545aac5')\"\n",
              "              title=\"Convert this dataframe to an interactive table.\"\n",
              "              style=\"display:none;\">\n",
              "        \n",
              "  <svg xmlns=\"http://www.w3.org/2000/svg\" height=\"24px\"viewBox=\"0 0 24 24\"\n",
              "       width=\"24px\">\n",
              "    <path d=\"M0 0h24v24H0V0z\" fill=\"none\"/>\n",
              "    <path d=\"M18.56 5.44l.94 2.06.94-2.06 2.06-.94-2.06-.94-.94-2.06-.94 2.06-2.06.94zm-11 1L8.5 8.5l.94-2.06 2.06-.94-2.06-.94L8.5 2.5l-.94 2.06-2.06.94zm10 10l.94 2.06.94-2.06 2.06-.94-2.06-.94-.94-2.06-.94 2.06-2.06.94z\"/><path d=\"M17.41 7.96l-1.37-1.37c-.4-.4-.92-.59-1.43-.59-.52 0-1.04.2-1.43.59L10.3 9.45l-7.72 7.72c-.78.78-.78 2.05 0 2.83L4 21.41c.39.39.9.59 1.41.59.51 0 1.02-.2 1.41-.59l7.78-7.78 2.81-2.81c.8-.78.8-2.07 0-2.86zM5.41 20L4 18.59l7.72-7.72 1.47 1.35L5.41 20z\"/>\n",
              "  </svg>\n",
              "      </button>\n",
              "      \n",
              "  <style>\n",
              "    .colab-df-container {\n",
              "      display:flex;\n",
              "      flex-wrap:wrap;\n",
              "      gap: 12px;\n",
              "    }\n",
              "\n",
              "    .colab-df-convert {\n",
              "      background-color: #E8F0FE;\n",
              "      border: none;\n",
              "      border-radius: 50%;\n",
              "      cursor: pointer;\n",
              "      display: none;\n",
              "      fill: #1967D2;\n",
              "      height: 32px;\n",
              "      padding: 0 0 0 0;\n",
              "      width: 32px;\n",
              "    }\n",
              "\n",
              "    .colab-df-convert:hover {\n",
              "      background-color: #E2EBFA;\n",
              "      box-shadow: 0px 1px 2px rgba(60, 64, 67, 0.3), 0px 1px 3px 1px rgba(60, 64, 67, 0.15);\n",
              "      fill: #174EA6;\n",
              "    }\n",
              "\n",
              "    [theme=dark] .colab-df-convert {\n",
              "      background-color: #3B4455;\n",
              "      fill: #D2E3FC;\n",
              "    }\n",
              "\n",
              "    [theme=dark] .colab-df-convert:hover {\n",
              "      background-color: #434B5C;\n",
              "      box-shadow: 0px 1px 3px 1px rgba(0, 0, 0, 0.15);\n",
              "      filter: drop-shadow(0px 1px 2px rgba(0, 0, 0, 0.3));\n",
              "      fill: #FFFFFF;\n",
              "    }\n",
              "  </style>\n",
              "\n",
              "      <script>\n",
              "        const buttonEl =\n",
              "          document.querySelector('#df-a01c7c68-692e-46f7-84cb-d3bef545aac5 button.colab-df-convert');\n",
              "        buttonEl.style.display =\n",
              "          google.colab.kernel.accessAllowed ? 'block' : 'none';\n",
              "\n",
              "        async function convertToInteractive(key) {\n",
              "          const element = document.querySelector('#df-a01c7c68-692e-46f7-84cb-d3bef545aac5');\n",
              "          const dataTable =\n",
              "            await google.colab.kernel.invokeFunction('convertToInteractive',\n",
              "                                                     [key], {});\n",
              "          if (!dataTable) return;\n",
              "\n",
              "          const docLinkHtml = 'Like what you see? Visit the ' +\n",
              "            '<a target=\"_blank\" href=https://colab.research.google.com/notebooks/data_table.ipynb>data table notebook</a>'\n",
              "            + ' to learn more about interactive tables.';\n",
              "          element.innerHTML = '';\n",
              "          dataTable['output_type'] = 'display_data';\n",
              "          await google.colab.output.renderOutput(dataTable, element);\n",
              "          const docLink = document.createElement('div');\n",
              "          docLink.innerHTML = docLinkHtml;\n",
              "          element.appendChild(docLink);\n",
              "        }\n",
              "      </script>\n",
              "    </div>\n",
              "  </div>\n",
              "  "
            ],
            "text/plain": [
              "             title  year  ...           character     n\n",
              "590576   Inception  2010  ...                Cobb   1.0\n",
              "859993   Inception  2010  ...              Arthur   2.0\n",
              "3387147  Inception  2010  ...             Ariadne   3.0\n",
              "940923   Inception  2010  ...               Eames   4.0\n",
              "2406531  Inception  2010  ...               Saito   5.0\n",
              "1876301  Inception  2010  ...               Yusuf   6.0\n",
              "1615709  Inception  2010  ...      Robert Fischer   7.0\n",
              "183937   Inception  2010  ...            Browning   8.0\n",
              "2765969  Inception  2010  ...                 Mal   9.0\n",
              "1826027  Inception  2010  ...     Maurice Fischer  10.0\n",
              "326745   Inception  2010  ...               Miles  11.0\n",
              "910757   Inception  2010  ...                Nash  12.0\n",
              "1309851  Inception  2010  ...             Tadashi  13.0\n",
              "2932657  Inception  2010  ...  Phillipa (3 years)  14.0\n",
              "1668790  Inception  2010  ...   James (20 months)  15.0\n",
              "\n",
              "[15 rows x 6 columns]"
            ]
          },
          "metadata": {},
          "execution_count": 21
        }
      ],
      "source": [
        "cast[(cast.title =='Inception') & (~cast.n.isna())].sort_values(by = 'n', ascending = True).iloc[:15]"
      ]
    },
    {
      "cell_type": "markdown",
      "metadata": {
        "id": "_U_grKwgFMyk"
      },
      "source": [
        "### Section I - Q9:\n",
        "\n",
        "(A) List all movies where there was a character 'Albus Dumbledore' \n",
        "\n",
        "(B) Now modify the above to show only the actors who played the character 'Albus Dumbledore'\n",
        "- For Part (B) remember the same actor might play the same role in multiple movies"
      ]
    },
    {
      "cell_type": "code",
      "execution_count": 22,
      "metadata": {
        "id": "ll0N1_cSFMyk",
        "outputId": "07b491c3-b129-4bc5-8cdc-9d19d81d2e1d",
        "colab": {
          "base_uri": "https://localhost:8080/",
          "height": 300
        }
      },
      "outputs": [
        {
          "data": {
            "text/html": [
              "\n",
              "  <div id=\"df-4c5ae3c4-95be-4117-be62-caee86a2fd88\">\n",
              "    <div class=\"colab-df-container\">\n",
              "      <div>\n",
              "<style scoped>\n",
              "    .dataframe tbody tr th:only-of-type {\n",
              "        vertical-align: middle;\n",
              "    }\n",
              "\n",
              "    .dataframe tbody tr th {\n",
              "        vertical-align: top;\n",
              "    }\n",
              "\n",
              "    .dataframe thead th {\n",
              "        text-align: right;\n",
              "    }\n",
              "</style>\n",
              "<table border=\"1\" class=\"dataframe\">\n",
              "  <thead>\n",
              "    <tr style=\"text-align: right;\">\n",
              "      <th></th>\n",
              "      <th>title</th>\n",
              "      <th>year</th>\n",
              "      <th>name</th>\n",
              "      <th>type</th>\n",
              "      <th>character</th>\n",
              "      <th>n</th>\n",
              "    </tr>\n",
              "  </thead>\n",
              "  <tbody>\n",
              "    <tr>\n",
              "      <th>704984</th>\n",
              "      <td>Epic Movie</td>\n",
              "      <td>2007</td>\n",
              "      <td>Dane Farwell</td>\n",
              "      <td>actor</td>\n",
              "      <td>Albus Dumbledore</td>\n",
              "      <td>17.0</td>\n",
              "    </tr>\n",
              "    <tr>\n",
              "      <th>792421</th>\n",
              "      <td>Harry Potter and the Goblet of Fire</td>\n",
              "      <td>2005</td>\n",
              "      <td>Michael Gambon</td>\n",
              "      <td>actor</td>\n",
              "      <td>Albus Dumbledore</td>\n",
              "      <td>37.0</td>\n",
              "    </tr>\n",
              "    <tr>\n",
              "      <th>792423</th>\n",
              "      <td>Harry Potter and the Order of the Phoenix</td>\n",
              "      <td>2007</td>\n",
              "      <td>Michael Gambon</td>\n",
              "      <td>actor</td>\n",
              "      <td>Albus Dumbledore</td>\n",
              "      <td>36.0</td>\n",
              "    </tr>\n",
              "    <tr>\n",
              "      <th>792424</th>\n",
              "      <td>Harry Potter and the Prisoner of Azkaban</td>\n",
              "      <td>2004</td>\n",
              "      <td>Michael Gambon</td>\n",
              "      <td>actor</td>\n",
              "      <td>Albus Dumbledore</td>\n",
              "      <td>27.0</td>\n",
              "    </tr>\n",
              "    <tr>\n",
              "      <th>947789</th>\n",
              "      <td>Harry Potter and the Chamber of Secrets</td>\n",
              "      <td>2002</td>\n",
              "      <td>Richard Harris</td>\n",
              "      <td>actor</td>\n",
              "      <td>Albus Dumbledore</td>\n",
              "      <td>32.0</td>\n",
              "    </tr>\n",
              "    <tr>\n",
              "      <th>947790</th>\n",
              "      <td>Harry Potter and the Sorcerer's Stone</td>\n",
              "      <td>2001</td>\n",
              "      <td>Richard Harris</td>\n",
              "      <td>actor</td>\n",
              "      <td>Albus Dumbledore</td>\n",
              "      <td>1.0</td>\n",
              "    </tr>\n",
              "    <tr>\n",
              "      <th>1685537</th>\n",
              "      <td>Ultimate Hero Project</td>\n",
              "      <td>2013</td>\n",
              "      <td>George (X) O'Connor</td>\n",
              "      <td>actor</td>\n",
              "      <td>Albus Dumbledore</td>\n",
              "      <td>NaN</td>\n",
              "    </tr>\n",
              "    <tr>\n",
              "      <th>2248085</th>\n",
              "      <td>Potter</td>\n",
              "      <td>2015</td>\n",
              "      <td>Timothy Tedmanson</td>\n",
              "      <td>actor</td>\n",
              "      <td>Albus Dumbledore</td>\n",
              "      <td>NaN</td>\n",
              "    </tr>\n",
              "  </tbody>\n",
              "</table>\n",
              "</div>\n",
              "      <button class=\"colab-df-convert\" onclick=\"convertToInteractive('df-4c5ae3c4-95be-4117-be62-caee86a2fd88')\"\n",
              "              title=\"Convert this dataframe to an interactive table.\"\n",
              "              style=\"display:none;\">\n",
              "        \n",
              "  <svg xmlns=\"http://www.w3.org/2000/svg\" height=\"24px\"viewBox=\"0 0 24 24\"\n",
              "       width=\"24px\">\n",
              "    <path d=\"M0 0h24v24H0V0z\" fill=\"none\"/>\n",
              "    <path d=\"M18.56 5.44l.94 2.06.94-2.06 2.06-.94-2.06-.94-.94-2.06-.94 2.06-2.06.94zm-11 1L8.5 8.5l.94-2.06 2.06-.94-2.06-.94L8.5 2.5l-.94 2.06-2.06.94zm10 10l.94 2.06.94-2.06 2.06-.94-2.06-.94-.94-2.06-.94 2.06-2.06.94z\"/><path d=\"M17.41 7.96l-1.37-1.37c-.4-.4-.92-.59-1.43-.59-.52 0-1.04.2-1.43.59L10.3 9.45l-7.72 7.72c-.78.78-.78 2.05 0 2.83L4 21.41c.39.39.9.59 1.41.59.51 0 1.02-.2 1.41-.59l7.78-7.78 2.81-2.81c.8-.78.8-2.07 0-2.86zM5.41 20L4 18.59l7.72-7.72 1.47 1.35L5.41 20z\"/>\n",
              "  </svg>\n",
              "      </button>\n",
              "      \n",
              "  <style>\n",
              "    .colab-df-container {\n",
              "      display:flex;\n",
              "      flex-wrap:wrap;\n",
              "      gap: 12px;\n",
              "    }\n",
              "\n",
              "    .colab-df-convert {\n",
              "      background-color: #E8F0FE;\n",
              "      border: none;\n",
              "      border-radius: 50%;\n",
              "      cursor: pointer;\n",
              "      display: none;\n",
              "      fill: #1967D2;\n",
              "      height: 32px;\n",
              "      padding: 0 0 0 0;\n",
              "      width: 32px;\n",
              "    }\n",
              "\n",
              "    .colab-df-convert:hover {\n",
              "      background-color: #E2EBFA;\n",
              "      box-shadow: 0px 1px 2px rgba(60, 64, 67, 0.3), 0px 1px 3px 1px rgba(60, 64, 67, 0.15);\n",
              "      fill: #174EA6;\n",
              "    }\n",
              "\n",
              "    [theme=dark] .colab-df-convert {\n",
              "      background-color: #3B4455;\n",
              "      fill: #D2E3FC;\n",
              "    }\n",
              "\n",
              "    [theme=dark] .colab-df-convert:hover {\n",
              "      background-color: #434B5C;\n",
              "      box-shadow: 0px 1px 3px 1px rgba(0, 0, 0, 0.15);\n",
              "      filter: drop-shadow(0px 1px 2px rgba(0, 0, 0, 0.3));\n",
              "      fill: #FFFFFF;\n",
              "    }\n",
              "  </style>\n",
              "\n",
              "      <script>\n",
              "        const buttonEl =\n",
              "          document.querySelector('#df-4c5ae3c4-95be-4117-be62-caee86a2fd88 button.colab-df-convert');\n",
              "        buttonEl.style.display =\n",
              "          google.colab.kernel.accessAllowed ? 'block' : 'none';\n",
              "\n",
              "        async function convertToInteractive(key) {\n",
              "          const element = document.querySelector('#df-4c5ae3c4-95be-4117-be62-caee86a2fd88');\n",
              "          const dataTable =\n",
              "            await google.colab.kernel.invokeFunction('convertToInteractive',\n",
              "                                                     [key], {});\n",
              "          if (!dataTable) return;\n",
              "\n",
              "          const docLinkHtml = 'Like what you see? Visit the ' +\n",
              "            '<a target=\"_blank\" href=https://colab.research.google.com/notebooks/data_table.ipynb>data table notebook</a>'\n",
              "            + ' to learn more about interactive tables.';\n",
              "          element.innerHTML = '';\n",
              "          dataTable['output_type'] = 'display_data';\n",
              "          await google.colab.output.renderOutput(dataTable, element);\n",
              "          const docLink = document.createElement('div');\n",
              "          docLink.innerHTML = docLinkHtml;\n",
              "          element.appendChild(docLink);\n",
              "        }\n",
              "      </script>\n",
              "    </div>\n",
              "  </div>\n",
              "  "
            ],
            "text/plain": [
              "                                             title  ...     n\n",
              "704984                                  Epic Movie  ...  17.0\n",
              "792421         Harry Potter and the Goblet of Fire  ...  37.0\n",
              "792423   Harry Potter and the Order of the Phoenix  ...  36.0\n",
              "792424    Harry Potter and the Prisoner of Azkaban  ...  27.0\n",
              "947789     Harry Potter and the Chamber of Secrets  ...  32.0\n",
              "947790       Harry Potter and the Sorcerer's Stone  ...   1.0\n",
              "1685537                      Ultimate Hero Project  ...   NaN\n",
              "2248085                                     Potter  ...   NaN\n",
              "\n",
              "[8 rows x 6 columns]"
            ]
          },
          "execution_count": null,
          "metadata": {},
          "output_type": "execute_result"
        }
      ],
      "source": [
        "cast[cast.character == 'Albus Dumbledore']"
      ]
    },
    {
      "cell_type": "code",
      "execution_count": 23,
      "metadata": {
        "id": "0D78MZaMFMyl",
        "outputId": "cf255cdc-5014-4822-ab4c-368ba7c8e741",
        "colab": {
          "base_uri": "https://localhost:8080/"
        }
      },
      "outputs": [
        {
          "output_type": "stream",
          "name": "stdout",
          "text": [
            "['Dane Farwell' 'Michael Gambon' 'Richard Harris' \"George (X) O'Connor\"\n",
            " 'Timothy Tedmanson']\n"
          ]
        }
      ],
      "source": [
        "albus_df = cast[cast.character == 'Albus Dumbledore']\n",
        "print(albus_df['name'].unique())"
      ]
    },
    {
      "cell_type": "markdown",
      "metadata": {
        "id": "IPiRoOhkFMyl"
      },
      "source": [
        "### Section I - Q10:\n",
        "\n",
        "(A) How many roles has 'Keanu Reeves' played throughout his career?\n",
        "\n",
        "(B) List the leading roles that 'Keanu Reeves' played on or after 1999 in order by year."
      ]
    },
    {
      "cell_type": "code",
      "execution_count": 24,
      "metadata": {
        "id": "ZB7ZbubbFMyl",
        "outputId": "e74c2d36-8152-4ef4-8bf0-06a6e5748f72",
        "colab": {
          "base_uri": "https://localhost:8080/"
        }
      },
      "outputs": [
        {
          "output_type": "execute_result",
          "data": {
            "text/plain": [
              "62"
            ]
          },
          "metadata": {},
          "execution_count": 24
        }
      ],
      "source": [
        "keanu_movies_df = cast[cast.name.str.contains('Keanu Reeves', case = False)]\n",
        "len(keanu_movies_df['character'])"
      ]
    },
    {
      "cell_type": "code",
      "execution_count": 25,
      "metadata": {
        "id": "lmZSswecFMyl",
        "outputId": "0633f8ef-0863-4436-d50d-bd39383eecf5",
        "colab": {
          "base_uri": "https://localhost:8080/",
          "height": 520
        }
      },
      "outputs": [
        {
          "output_type": "execute_result",
          "data": {
            "text/html": [
              "\n",
              "  <div id=\"df-797ef075-40a2-4f53-8240-543429136299\">\n",
              "    <div class=\"colab-df-container\">\n",
              "      <div>\n",
              "<style scoped>\n",
              "    .dataframe tbody tr th:only-of-type {\n",
              "        vertical-align: middle;\n",
              "    }\n",
              "\n",
              "    .dataframe tbody tr th {\n",
              "        vertical-align: top;\n",
              "    }\n",
              "\n",
              "    .dataframe thead th {\n",
              "        text-align: right;\n",
              "    }\n",
              "</style>\n",
              "<table border=\"1\" class=\"dataframe\">\n",
              "  <thead>\n",
              "    <tr style=\"text-align: right;\">\n",
              "      <th></th>\n",
              "      <th>title</th>\n",
              "      <th>year</th>\n",
              "      <th>name</th>\n",
              "      <th>type</th>\n",
              "      <th>character</th>\n",
              "      <th>n</th>\n",
              "    </tr>\n",
              "  </thead>\n",
              "  <tbody>\n",
              "    <tr>\n",
              "      <th>1892390</th>\n",
              "      <td>The Matrix</td>\n",
              "      <td>1999</td>\n",
              "      <td>Keanu Reeves</td>\n",
              "      <td>actor</td>\n",
              "      <td>Neo</td>\n",
              "      <td>1.0</td>\n",
              "    </tr>\n",
              "    <tr>\n",
              "      <th>1892397</th>\n",
              "      <td>The Replacements</td>\n",
              "      <td>2000</td>\n",
              "      <td>Keanu Reeves</td>\n",
              "      <td>actor</td>\n",
              "      <td>Shane Falco</td>\n",
              "      <td>1.0</td>\n",
              "    </tr>\n",
              "    <tr>\n",
              "      <th>1892358</th>\n",
              "      <td>Hard Ball</td>\n",
              "      <td>2001</td>\n",
              "      <td>Keanu Reeves</td>\n",
              "      <td>actor</td>\n",
              "      <td>Conor O'Neill</td>\n",
              "      <td>1.0</td>\n",
              "    </tr>\n",
              "    <tr>\n",
              "      <th>1892383</th>\n",
              "      <td>Sweet November</td>\n",
              "      <td>2001</td>\n",
              "      <td>Keanu Reeves</td>\n",
              "      <td>actor</td>\n",
              "      <td>Nelson Moss</td>\n",
              "      <td>1.0</td>\n",
              "    </tr>\n",
              "    <tr>\n",
              "      <th>1892348</th>\n",
              "      <td>Constantine</td>\n",
              "      <td>2005</td>\n",
              "      <td>Keanu Reeves</td>\n",
              "      <td>actor</td>\n",
              "      <td>John Constantine</td>\n",
              "      <td>1.0</td>\n",
              "    </tr>\n",
              "    <tr>\n",
              "      <th>1892388</th>\n",
              "      <td>The Lake House</td>\n",
              "      <td>2006</td>\n",
              "      <td>Keanu Reeves</td>\n",
              "      <td>actor</td>\n",
              "      <td>Alex Wyler</td>\n",
              "      <td>1.0</td>\n",
              "    </tr>\n",
              "    <tr>\n",
              "      <th>1892382</th>\n",
              "      <td>Street Kings</td>\n",
              "      <td>2008</td>\n",
              "      <td>Keanu Reeves</td>\n",
              "      <td>actor</td>\n",
              "      <td>Detective Tom Ludlow</td>\n",
              "      <td>1.0</td>\n",
              "    </tr>\n",
              "    <tr>\n",
              "      <th>1892385</th>\n",
              "      <td>The Day the Earth Stood Still</td>\n",
              "      <td>2008</td>\n",
              "      <td>Keanu Reeves</td>\n",
              "      <td>actor</td>\n",
              "      <td>Klaatu</td>\n",
              "      <td>1.0</td>\n",
              "    </tr>\n",
              "    <tr>\n",
              "      <th>1892359</th>\n",
              "      <td>Henry's Crime</td>\n",
              "      <td>2010</td>\n",
              "      <td>Keanu Reeves</td>\n",
              "      <td>actor</td>\n",
              "      <td>Henry Torne</td>\n",
              "      <td>1.0</td>\n",
              "    </tr>\n",
              "    <tr>\n",
              "      <th>1892342</th>\n",
              "      <td>47 Ronin</td>\n",
              "      <td>2013</td>\n",
              "      <td>Keanu Reeves</td>\n",
              "      <td>actor</td>\n",
              "      <td>Kai</td>\n",
              "      <td>1.0</td>\n",
              "    </tr>\n",
              "    <tr>\n",
              "      <th>1892361</th>\n",
              "      <td>John Wick</td>\n",
              "      <td>2014</td>\n",
              "      <td>Keanu Reeves</td>\n",
              "      <td>actor</td>\n",
              "      <td>John Wick</td>\n",
              "      <td>1.0</td>\n",
              "    </tr>\n",
              "    <tr>\n",
              "      <th>1892366</th>\n",
              "      <td>Knock Knock</td>\n",
              "      <td>2015</td>\n",
              "      <td>Keanu Reeves</td>\n",
              "      <td>actor</td>\n",
              "      <td>Evan</td>\n",
              "      <td>1.0</td>\n",
              "    </tr>\n",
              "    <tr>\n",
              "      <th>1892399</th>\n",
              "      <td>The Whole Truth</td>\n",
              "      <td>2016</td>\n",
              "      <td>Keanu Reeves</td>\n",
              "      <td>actor</td>\n",
              "      <td>Ramsey</td>\n",
              "      <td>1.0</td>\n",
              "    </tr>\n",
              "    <tr>\n",
              "      <th>1892362</th>\n",
              "      <td>John Wick: Chapter 2</td>\n",
              "      <td>2017</td>\n",
              "      <td>Keanu Reeves</td>\n",
              "      <td>actor</td>\n",
              "      <td>John Wick</td>\n",
              "      <td>1.0</td>\n",
              "    </tr>\n",
              "    <tr>\n",
              "      <th>1892378</th>\n",
              "      <td>Siberia</td>\n",
              "      <td>2018</td>\n",
              "      <td>Keanu Reeves</td>\n",
              "      <td>actor</td>\n",
              "      <td>Lucas Hill</td>\n",
              "      <td>1.0</td>\n",
              "    </tr>\n",
              "  </tbody>\n",
              "</table>\n",
              "</div>\n",
              "      <button class=\"colab-df-convert\" onclick=\"convertToInteractive('df-797ef075-40a2-4f53-8240-543429136299')\"\n",
              "              title=\"Convert this dataframe to an interactive table.\"\n",
              "              style=\"display:none;\">\n",
              "        \n",
              "  <svg xmlns=\"http://www.w3.org/2000/svg\" height=\"24px\"viewBox=\"0 0 24 24\"\n",
              "       width=\"24px\">\n",
              "    <path d=\"M0 0h24v24H0V0z\" fill=\"none\"/>\n",
              "    <path d=\"M18.56 5.44l.94 2.06.94-2.06 2.06-.94-2.06-.94-.94-2.06-.94 2.06-2.06.94zm-11 1L8.5 8.5l.94-2.06 2.06-.94-2.06-.94L8.5 2.5l-.94 2.06-2.06.94zm10 10l.94 2.06.94-2.06 2.06-.94-2.06-.94-.94-2.06-.94 2.06-2.06.94z\"/><path d=\"M17.41 7.96l-1.37-1.37c-.4-.4-.92-.59-1.43-.59-.52 0-1.04.2-1.43.59L10.3 9.45l-7.72 7.72c-.78.78-.78 2.05 0 2.83L4 21.41c.39.39.9.59 1.41.59.51 0 1.02-.2 1.41-.59l7.78-7.78 2.81-2.81c.8-.78.8-2.07 0-2.86zM5.41 20L4 18.59l7.72-7.72 1.47 1.35L5.41 20z\"/>\n",
              "  </svg>\n",
              "      </button>\n",
              "      \n",
              "  <style>\n",
              "    .colab-df-container {\n",
              "      display:flex;\n",
              "      flex-wrap:wrap;\n",
              "      gap: 12px;\n",
              "    }\n",
              "\n",
              "    .colab-df-convert {\n",
              "      background-color: #E8F0FE;\n",
              "      border: none;\n",
              "      border-radius: 50%;\n",
              "      cursor: pointer;\n",
              "      display: none;\n",
              "      fill: #1967D2;\n",
              "      height: 32px;\n",
              "      padding: 0 0 0 0;\n",
              "      width: 32px;\n",
              "    }\n",
              "\n",
              "    .colab-df-convert:hover {\n",
              "      background-color: #E2EBFA;\n",
              "      box-shadow: 0px 1px 2px rgba(60, 64, 67, 0.3), 0px 1px 3px 1px rgba(60, 64, 67, 0.15);\n",
              "      fill: #174EA6;\n",
              "    }\n",
              "\n",
              "    [theme=dark] .colab-df-convert {\n",
              "      background-color: #3B4455;\n",
              "      fill: #D2E3FC;\n",
              "    }\n",
              "\n",
              "    [theme=dark] .colab-df-convert:hover {\n",
              "      background-color: #434B5C;\n",
              "      box-shadow: 0px 1px 3px 1px rgba(0, 0, 0, 0.15);\n",
              "      filter: drop-shadow(0px 1px 2px rgba(0, 0, 0, 0.3));\n",
              "      fill: #FFFFFF;\n",
              "    }\n",
              "  </style>\n",
              "\n",
              "      <script>\n",
              "        const buttonEl =\n",
              "          document.querySelector('#df-797ef075-40a2-4f53-8240-543429136299 button.colab-df-convert');\n",
              "        buttonEl.style.display =\n",
              "          google.colab.kernel.accessAllowed ? 'block' : 'none';\n",
              "\n",
              "        async function convertToInteractive(key) {\n",
              "          const element = document.querySelector('#df-797ef075-40a2-4f53-8240-543429136299');\n",
              "          const dataTable =\n",
              "            await google.colab.kernel.invokeFunction('convertToInteractive',\n",
              "                                                     [key], {});\n",
              "          if (!dataTable) return;\n",
              "\n",
              "          const docLinkHtml = 'Like what you see? Visit the ' +\n",
              "            '<a target=\"_blank\" href=https://colab.research.google.com/notebooks/data_table.ipynb>data table notebook</a>'\n",
              "            + ' to learn more about interactive tables.';\n",
              "          element.innerHTML = '';\n",
              "          dataTable['output_type'] = 'display_data';\n",
              "          await google.colab.output.renderOutput(dataTable, element);\n",
              "          const docLink = document.createElement('div');\n",
              "          docLink.innerHTML = docLinkHtml;\n",
              "          element.appendChild(docLink);\n",
              "        }\n",
              "      </script>\n",
              "    </div>\n",
              "  </div>\n",
              "  "
            ],
            "text/plain": [
              "                                 title  year  ...             character    n\n",
              "1892390                     The Matrix  1999  ...                   Neo  1.0\n",
              "1892397               The Replacements  2000  ...           Shane Falco  1.0\n",
              "1892358                      Hard Ball  2001  ...         Conor O'Neill  1.0\n",
              "1892383                 Sweet November  2001  ...           Nelson Moss  1.0\n",
              "1892348                    Constantine  2005  ...      John Constantine  1.0\n",
              "1892388                 The Lake House  2006  ...            Alex Wyler  1.0\n",
              "1892382                   Street Kings  2008  ...  Detective Tom Ludlow  1.0\n",
              "1892385  The Day the Earth Stood Still  2008  ...                Klaatu  1.0\n",
              "1892359                  Henry's Crime  2010  ...           Henry Torne  1.0\n",
              "1892342                       47 Ronin  2013  ...                   Kai  1.0\n",
              "1892361                      John Wick  2014  ...             John Wick  1.0\n",
              "1892366                    Knock Knock  2015  ...                  Evan  1.0\n",
              "1892399                The Whole Truth  2016  ...                Ramsey  1.0\n",
              "1892362           John Wick: Chapter 2  2017  ...             John Wick  1.0\n",
              "1892378                        Siberia  2018  ...            Lucas Hill  1.0\n",
              "\n",
              "[15 rows x 6 columns]"
            ]
          },
          "metadata": {},
          "execution_count": 25
        }
      ],
      "source": [
        "keanu_movies_1999 = cast[(cast.name == 'Keanu Reeves') & (cast.year >= 1999) & (cast.n == 1.0)].sort_values(by = 'year', ascending = True)\n",
        "keanu_movies_1999"
      ]
    },
    {
      "cell_type": "markdown",
      "metadata": {
        "id": "CnApo_XGFMyl"
      },
      "source": [
        "### Section I - Q11: \n",
        "\n",
        "(A) List the total number of actor and actress roles available from 1950 - 1960\n",
        "\n",
        "(B) List the total number of actor and actress roles available from 2007 - 2017"
      ]
    },
    {
      "cell_type": "code",
      "execution_count": 26,
      "metadata": {
        "id": "yOmGzhPtFMyl",
        "outputId": "d7b8ad33-03da-4cb5-8527-61aa41318965",
        "colab": {
          "base_uri": "https://localhost:8080/"
        }
      },
      "outputs": [
        {
          "output_type": "execute_result",
          "data": {
            "text/plain": [
              "234635"
            ]
          },
          "metadata": {},
          "execution_count": 26
        }
      ],
      "source": [
        "len(cast[(cast.year >= 1950) & (cast.year <= 1960)])"
      ]
    },
    {
      "cell_type": "code",
      "execution_count": 27,
      "metadata": {
        "id": "VxiOQfBSFMyl",
        "outputId": "b75d095e-15c1-41fd-fad8-ac80c697dc41",
        "colab": {
          "base_uri": "https://localhost:8080/"
        }
      },
      "outputs": [
        {
          "output_type": "execute_result",
          "data": {
            "text/plain": [
              "1452413"
            ]
          },
          "metadata": {},
          "execution_count": 27
        }
      ],
      "source": [
        "len(cast[(cast.year >= 2007) & (cast.year <= 2017)])"
      ]
    },
    {
      "cell_type": "markdown",
      "metadata": {
        "id": "LslUb8NEFMyl"
      },
      "source": [
        "### Section I - Q12: \n",
        "\n",
        "(A) List the total number of leading roles available from 2000 to present\n",
        "\n",
        "(B) List the total number of non-leading roles available from 2000 - present (exclude support cast)\n",
        "\n",
        "(C) List the total number of support\\extra-credit roles available from 2000 - present"
      ]
    },
    {
      "cell_type": "code",
      "execution_count": 28,
      "metadata": {
        "id": "-4rLjabqFMym",
        "outputId": "cfa700da-f3e3-46ad-bd2d-81c430a98791",
        "colab": {
          "base_uri": "https://localhost:8080/"
        }
      },
      "outputs": [
        {
          "output_type": "execute_result",
          "data": {
            "text/plain": [
              "60568"
            ]
          },
          "metadata": {},
          "execution_count": 28
        }
      ],
      "source": [
        "len(cast[(cast.year >= 2000) & (cast.n == 1.0)])"
      ]
    },
    {
      "cell_type": "code",
      "execution_count": 29,
      "metadata": {
        "id": "PjhWqcuuFMym",
        "outputId": "7885447e-6512-4880-8206-e2fc2bdabab0",
        "colab": {
          "base_uri": "https://localhost:8080/"
        }
      },
      "outputs": [
        {
          "output_type": "execute_result",
          "data": {
            "text/plain": [
              "1001710"
            ]
          },
          "metadata": {},
          "execution_count": 29
        }
      ],
      "source": [
        "len(cast[(cast.year >= 2000) & (cast.n > 1.0) & (~cast.n.isna())])"
      ]
    },
    {
      "cell_type": "code",
      "execution_count": 30,
      "metadata": {
        "id": "JcEE7dF6FMym",
        "outputId": "db3bc3ce-88dd-4c85-a563-fc67abcf309a",
        "colab": {
          "base_uri": "https://localhost:8080/"
        }
      },
      "outputs": [
        {
          "output_type": "execute_result",
          "data": {
            "text/plain": [
              "887484"
            ]
          },
          "metadata": {},
          "execution_count": 30
        }
      ],
      "source": [
        "len(cast[(cast.year >= 2000) & (cast.n.isna())])"
      ]
    },
    {
      "cell_type": "markdown",
      "metadata": {
        "id": "zO-MlzdRFMym"
      },
      "source": [
        "# Section II - Aggregations, Transformations and Visualizations"
      ]
    },
    {
      "cell_type": "markdown",
      "metadata": {
        "id": "_Tan6smfFMym"
      },
      "source": [
        "## What are the top ten most common movie names of all time?\n"
      ]
    },
    {
      "cell_type": "code",
      "execution_count": 31,
      "metadata": {
        "id": "1QTpWo92FMym",
        "outputId": "9cee17be-239c-46d6-a19c-49a4eeee977c",
        "colab": {
          "base_uri": "https://localhost:8080/"
        }
      },
      "outputs": [
        {
          "output_type": "execute_result",
          "data": {
            "text/plain": [
              "Hamlet                  20\n",
              "Carmen                  17\n",
              "Macbeth                 16\n",
              "Maya                    12\n",
              "The Outsider            12\n",
              "Temptation              12\n",
              "Freedom                 11\n",
              "The Three Musketeers    11\n",
              "Honeymoon               11\n",
              "Othello                 11\n",
              "Name: title, dtype: int64"
            ]
          },
          "metadata": {},
          "execution_count": 31
        }
      ],
      "source": [
        "top_ten = movies.title.value_counts()[:10]\n",
        "top_ten"
      ]
    },
    {
      "cell_type": "markdown",
      "metadata": {
        "id": "uCgJqWAjFMym"
      },
      "source": [
        "### Plot the top ten common movie names of all time"
      ]
    },
    {
      "cell_type": "code",
      "execution_count": 32,
      "metadata": {
        "id": "oEFje-AnFMyn",
        "outputId": "985c48ae-254a-4328-ac48-76723d024b8d",
        "colab": {
          "base_uri": "https://localhost:8080/",
          "height": 282
        }
      },
      "outputs": [
        {
          "output_type": "execute_result",
          "data": {
            "text/plain": [
              "<matplotlib.axes._subplots.AxesSubplot at 0x7f16023436d0>"
            ]
          },
          "metadata": {},
          "execution_count": 32
        },
        {
          "output_type": "display_data",
          "data": {
            "image/png": "[encoded data removed]",
            "text/plain": [
              "<Figure size 432x288 with 1 Axes>"
            ]
          },
          "metadata": {
            "needs_background": "light"
          }
        }
      ],
      "source": [
        "top_ten.plot(kind='barh')"
      ]
    },
    {
      "cell_type": "markdown",
      "metadata": {
        "id": "WljgDn09FMyn"
      },
      "source": [
        "### Section II - Q1:  Which years in the 2000s saw the most movies released? (Show top 3)"
      ]
    },
    {
      "cell_type": "code",
      "execution_count": 34,
      "metadata": {
        "id": "5mwg6Q3dFMyn",
        "outputId": "d4125231-b21b-45f3-f26a-e5c8becc3bac",
        "colab": {
          "base_uri": "https://localhost:8080/"
        }
      },
      "outputs": [
        {
          "output_type": "execute_result",
          "data": {
            "text/plain": [
              "2010    6415\n",
              "2009    6125\n",
              "2008    5151\n",
              "Name: year, dtype: int64"
            ]
          },
          "metadata": {},
          "execution_count": 34
        }
      ],
      "source": [
        "top_3_2000s = movies[(movies.year >= 2000) & (movies.year <= 2010)].year.value_counts()[:3]\n",
        "top_3_2000s"
      ]
    },
    {
      "cell_type": "markdown",
      "metadata": {
        "id": "JEQAbfzqFMyn"
      },
      "source": [
        "### Section II - Q2: # Plot the total number of films released per-decade (1890, 1900, 1910,....)\n",
        "- Hint: Dividing the year and multiplying with a number might give you the decade the year falls into!\n",
        "- You might need to sort before plotting"
      ]
    },
    {
      "cell_type": "code",
      "execution_count": 83,
      "metadata": {
        "id": "Ef11JpGqFMyn",
        "outputId": "bd671943-c91d-46cd-8079-bd182a8b8462",
        "colab": {
          "base_uri": "https://localhost:8080/",
          "height": 282
        }
      },
      "outputs": [
        {
          "output_type": "execute_result",
          "data": {
            "text/plain": [
              "<matplotlib.axes._subplots.AxesSubplot at 0x7f15fc728590>"
            ]
          },
          "metadata": {},
          "execution_count": 83
        },
        {
          "output_type": "display_data",
          "data": {
            "image/png": "[encoded data removed]",
            "text/plain": [
              "<Figure size 432x288 with 1 Axes>"
            ]
          },
          "metadata": {
            "needs_background": "light"
          }
        }
      ],
      "source": [
        "movies['decade'] = (movies['year']/10).astype(int) * 10\n",
        "movies_decade = movies.decade.value_counts().sort_index(ascending = False)\n",
        "movies_decade.plot(kind = 'barh')"
      ]
    },
    {
      "cell_type": "markdown",
      "metadata": {
        "id": "Eq0M7d_-FMyn"
      },
      "source": [
        "### Section II - Q3: \n",
        "\n",
        "(A) What are the top 10 most common character names in movie history?\n",
        "\n",
        "(B) Who are the top 10 people most often credited as \"Herself\" in movie history?\n",
        "\n",
        "(C) Who are the top 10 people most often credited as \"Himself\" in movie history?"
      ]
    },
    {
      "cell_type": "code",
      "execution_count": 85,
      "metadata": {
        "id": "qdxFS-ChFMyn",
        "outputId": "39873a80-f2f1-4f80-97cc-eeeed2380c9c",
        "colab": {
          "base_uri": "https://localhost:8080/"
        }
      },
      "outputs": [
        {
          "output_type": "execute_result",
          "data": {
            "text/plain": [
              "Himself        20746\n",
              "Dancer         12477\n",
              "Extra          11948\n",
              "Reporter        8434\n",
              "Student         7773\n",
              "Doctor          7669\n",
              "Party Guest     7245\n",
              "Policeman       7029\n",
              "Nurse           6999\n",
              "Bartender       6802\n",
              "Name: character, dtype: int64"
            ]
          },
          "metadata": {},
          "execution_count": 85
        }
      ],
      "source": [
        "cast.character.value_counts()[:10]"
      ]
    },
    {
      "cell_type": "code",
      "execution_count": 86,
      "metadata": {
        "id": "b-T8b8BMFMyn",
        "outputId": "20bb7872-11f5-4879-ecd2-5d5e5115c47d",
        "colab": {
          "base_uri": "https://localhost:8080/"
        }
      },
      "outputs": [
        {
          "output_type": "execute_result",
          "data": {
            "text/plain": [
              "Queen Elizabeth II           12\n",
              "Mar?a Luisa (V) Mart?n        9\n",
              "Luisa Horga                   9\n",
              "Joyce Brothers                9\n",
              "Hillary Clinton               8\n",
              "Margaret Thatcher             8\n",
              "Mar?a Isabel (III) Mart?n     6\n",
              "Marilyn Monroe                6\n",
              "Joan Rivers                   6\n",
              "In?s J. Southern              6\n",
              "Name: name, dtype: int64"
            ]
          },
          "metadata": {},
          "execution_count": 86
        }
      ],
      "source": [
        "cast_she = cast[cast.character == 'Herself']\n",
        "cast_she.name.value_counts()[:10]"
      ]
    },
    {
      "cell_type": "code",
      "execution_count": 87,
      "metadata": {
        "id": "lLKIhrw1FMyo",
        "outputId": "21f5b4f9-5d98-4db8-971d-8ce9532eec7f",
        "colab": {
          "base_uri": "https://localhost:8080/"
        }
      },
      "outputs": [
        {
          "output_type": "execute_result",
          "data": {
            "text/plain": [
              "Adolf Hitler             99\n",
              "Richard Nixon            44\n",
              "Ronald Reagan            41\n",
              "John F. Kennedy          37\n",
              "George W. Bush           25\n",
              "Winston Churchill        24\n",
              "Martin Luther King       23\n",
              "Ron Jeremy               22\n",
              "Bill Clinton             22\n",
              "Franklin D. Roosevelt    21\n",
              "Name: name, dtype: int64"
            ]
          },
          "metadata": {},
          "execution_count": 87
        }
      ],
      "source": [
        "cast_he = cast[cast.character == 'Himself']\n",
        "cast_he.name.value_counts()[:10]"
      ]
    },
    {
      "cell_type": "markdown",
      "metadata": {
        "id": "_d-alN5mFMyo"
      },
      "source": [
        "### Section II - Q4: \n",
        "\n",
        "(A) What are the top 10 most frequent roles that start with the word \"Zombie\"?\n",
        "\n",
        "(B) What are the top 10 most frequent roles that start with the word \"Police\"?\n",
        "\n",
        "- Hint: The `startswith()` function might be useful"
      ]
    },
    {
      "cell_type": "code",
      "execution_count": 90,
      "metadata": {
        "id": "k0qj3c3fFMyo",
        "outputId": "46816935-2952-447f-a2ba-6acae28ff033",
        "colab": {
          "base_uri": "https://localhost:8080/"
        }
      },
      "outputs": [
        {
          "output_type": "execute_result",
          "data": {
            "text/plain": [
              "Zombie                         6264\n",
              "Zombie Horde                    206\n",
              "Zombie - Protestor - Victim      78\n",
              "Zombie Extra                     70\n",
              "Zombie Dancer                    43\n",
              "Zombie #1                        36\n",
              "Zombie Girl                      36\n",
              "Zombie #2                        31\n",
              "Zombie Vampire                   25\n",
              "Zombie Victim                    22\n",
              "Name: character, dtype: int64"
            ]
          },
          "metadata": {},
          "execution_count": 90
        }
      ],
      "source": [
        "cast[cast.character.str.startswith('Zombie')].character.value_counts()[:10]"
      ]
    },
    {
      "cell_type": "code",
      "execution_count": 91,
      "metadata": {
        "id": "yPLdVg23FMyo",
        "outputId": "96bfc824-d1b9-4b72-bdc4-8c9ec5b596bc",
        "colab": {
          "base_uri": "https://localhost:8080/"
        }
      },
      "outputs": [
        {
          "output_type": "execute_result",
          "data": {
            "text/plain": [
              "Policeman              7029\n",
              "Police Officer         4808\n",
              "Police Inspector        742\n",
              "Police Sergeant         674\n",
              "Police officer          539\n",
              "Police                  456\n",
              "Policewoman             415\n",
              "Police Chief            410\n",
              "Police Captain          387\n",
              "Police Commissioner     337\n",
              "Name: character, dtype: int64"
            ]
          },
          "metadata": {},
          "execution_count": 91
        }
      ],
      "source": [
        "cast[cast.character.str.startswith('Police')].character.value_counts()[:10]"
      ]
    },
    {
      "cell_type": "markdown",
      "metadata": {
        "id": "76iNu7lnFMyo"
      },
      "source": [
        "### Section II - Q5: Plot how many roles 'Keanu Reeves' has played in each year of his career."
      ]
    },
    {
      "cell_type": "code",
      "execution_count": 92,
      "metadata": {
        "id": "1kbjL6uDFMyo",
        "outputId": "b2bb0c3c-afe7-4206-8f24-c6a662084d2f",
        "colab": {
          "base_uri": "https://localhost:8080/",
          "height": 283
        }
      },
      "outputs": [
        {
          "output_type": "execute_result",
          "data": {
            "text/plain": [
              "<matplotlib.axes._subplots.AxesSubplot at 0x7f15fc6693d0>"
            ]
          },
          "metadata": {},
          "execution_count": 92
        },
        {
          "output_type": "display_data",
          "data": {
            "image/png": "[encoded data removed]",
            "text/plain": [
              "<Figure size 432x288 with 1 Axes>"
            ]
          },
          "metadata": {
            "needs_background": "light"
          }
        }
      ],
      "source": [
        "cast[cast.name == 'Keanu Reeves'].year.value_counts().sort_index().plot(kind = 'barh')"
      ]
    },
    {
      "cell_type": "markdown",
      "metadata": {
        "id": "Htk34IL6FMyo"
      },
      "source": [
        "### Section II - Q6: Plot the cast positions (n-values) of Keanu Reeve's roles through his career over the years.\n"
      ]
    },
    {
      "cell_type": "code",
      "execution_count": 98,
      "metadata": {
        "id": "ohvEjt_IFMyo",
        "outputId": "9d576932-a60e-43bb-aae3-966d529731c5",
        "colab": {
          "base_uri": "https://localhost:8080/",
          "height": 366
        }
      },
      "outputs": [
        {
          "output_type": "execute_result",
          "data": {
            "text/plain": [
              "<matplotlib.axes._subplots.AxesSubplot at 0x7f15fc1575d0>"
            ]
          },
          "metadata": {},
          "execution_count": 98
        },
        {
          "output_type": "display_data",
          "data": {
            "image/png": "[encoded data removed]",
            "text/plain": [
              "<Figure size 1080x360 with 1 Axes>"
            ]
          },
          "metadata": {
            "needs_background": "light"
          }
        }
      ],
      "source": [
        "keanu_cast = cast[cast.name == 'Keanu Reeves'].sort_values(by = ['year', 'n'], ascending = [True, True])\n",
        "keanu_cast.plot(kind='bar',x='year', y='n', figsize=(15,5))"
      ]
    },
    {
      "cell_type": "markdown",
      "metadata": {
        "id": "bMzPEdLWFMyo"
      },
      "source": [
        "### Section II - Q7: Plot the number of \"Hamlet\" films made by each decade"
      ]
    },
    {
      "cell_type": "code",
      "execution_count": 105,
      "metadata": {
        "id": "jLJjfgTeFMyp",
        "outputId": "cdbcab51-c8b7-4e42-8f2a-73eca3c080c7",
        "colab": {
          "base_uri": "https://localhost:8080/",
          "height": 282
        }
      },
      "outputs": [
        {
          "output_type": "execute_result",
          "data": {
            "text/plain": [
              "<matplotlib.axes._subplots.AxesSubplot at 0x7f15fbd0ac90>"
            ]
          },
          "metadata": {},
          "execution_count": 105
        },
        {
          "output_type": "display_data",
          "data": {
            "image/png": "[encoded data removed]",
            "text/plain": [
              "<Figure size 432x288 with 1 Axes>"
            ]
          },
          "metadata": {
            "needs_background": "light"
          }
        }
      ],
      "source": [
        "ham_movies = movies[movies.title == 'Hamlet'].decade.value_counts()\n",
        "ham_movies.plot(kind = 'barh')"
      ]
    },
    {
      "cell_type": "markdown",
      "metadata": {
        "id": "MuX-jTEpFMyp"
      },
      "source": [
        "### Section II - Q8: \n",
        "\n",
        "(A) How many leading roles were available to both actors and actresses, in the 1960s (1960-1969)?\n",
        "\n",
        "(B) How many leading roles were available to both actors and actresses, in the 2000s (2000-2009)?\n",
        "\n",
        "- Hint: A specific value of n might indicate a leading role"
      ]
    },
    {
      "cell_type": "code",
      "execution_count": 107,
      "metadata": {
        "id": "1jwg-_PVFMyp",
        "outputId": "e80ab310-581b-44bb-c8cd-a92a5ab6aeb7",
        "colab": {
          "base_uri": "https://localhost:8080/"
        }
      },
      "outputs": [
        {
          "output_type": "execute_result",
          "data": {
            "text/plain": [
              "11823"
            ]
          },
          "metadata": {},
          "execution_count": 107
        }
      ],
      "source": [
        "len(cast[(cast.year >= 1960) & (cast.year <= 1969) & (cast.n == 1.0)])"
      ]
    },
    {
      "cell_type": "code",
      "execution_count": 108,
      "metadata": {
        "id": "p1fiacYIFMyp",
        "outputId": "360fe113-7081-4f6a-859f-0130878472d9",
        "colab": {
          "base_uri": "https://localhost:8080/"
        }
      },
      "outputs": [
        {
          "output_type": "execute_result",
          "data": {
            "text/plain": [
              "26344"
            ]
          },
          "metadata": {},
          "execution_count": 108
        }
      ],
      "source": [
        "len(cast[(cast.year >= 2000) & (cast.year <= 2009) & (cast.n == 1.0)])"
      ]
    },
    {
      "cell_type": "markdown",
      "metadata": {
        "id": "wxoHpAcuFMyp"
      },
      "source": [
        "### Section II - Q9: List, in order by year, each of the films in which Frank Oz has played more than 1 role."
      ]
    },
    {
      "cell_type": "code",
      "execution_count": 117,
      "metadata": {
        "id": "XCAmGz-DFMyp",
        "outputId": "5a78faeb-4ee4-4294-ecce-7d0ec55947aa",
        "colab": {
          "base_uri": "https://localhost:8080/",
          "height": 394
        }
      },
      "outputs": [
        {
          "output_type": "execute_result",
          "data": {
            "text/html": [
              "\n",
              "  <div id=\"df-30867c10-af27-4475-8a73-0e4a1b90110d\">\n",
              "    <div class=\"colab-df-container\">\n",
              "      <div>\n",
              "<style scoped>\n",
              "    .dataframe tbody tr th:only-of-type {\n",
              "        vertical-align: middle;\n",
              "    }\n",
              "\n",
              "    .dataframe tbody tr th {\n",
              "        vertical-align: top;\n",
              "    }\n",
              "\n",
              "    .dataframe thead th {\n",
              "        text-align: right;\n",
              "    }\n",
              "</style>\n",
              "<table border=\"1\" class=\"dataframe\">\n",
              "  <thead>\n",
              "    <tr style=\"text-align: right;\">\n",
              "      <th></th>\n",
              "      <th></th>\n",
              "      <th>character</th>\n",
              "    </tr>\n",
              "    <tr>\n",
              "      <th>title</th>\n",
              "      <th>year</th>\n",
              "      <th></th>\n",
              "    </tr>\n",
              "  </thead>\n",
              "  <tbody>\n",
              "    <tr>\n",
              "      <th>The Muppet Movie</th>\n",
              "      <th>1979</th>\n",
              "      <td>8</td>\n",
              "    </tr>\n",
              "    <tr>\n",
              "      <th>An American Werewolf in London</th>\n",
              "      <th>1981</th>\n",
              "      <td>2</td>\n",
              "    </tr>\n",
              "    <tr>\n",
              "      <th>The Great Muppet Caper</th>\n",
              "      <th>1981</th>\n",
              "      <td>6</td>\n",
              "    </tr>\n",
              "    <tr>\n",
              "      <th>The Dark Crystal</th>\n",
              "      <th>1982</th>\n",
              "      <td>2</td>\n",
              "    </tr>\n",
              "    <tr>\n",
              "      <th>The Muppets Take Manhattan</th>\n",
              "      <th>1984</th>\n",
              "      <td>7</td>\n",
              "    </tr>\n",
              "    <tr>\n",
              "      <th>Follow That Bird</th>\n",
              "      <th>1985</th>\n",
              "      <td>3</td>\n",
              "    </tr>\n",
              "    <tr>\n",
              "      <th>The Muppet Christmas Carol</th>\n",
              "      <th>1992</th>\n",
              "      <td>7</td>\n",
              "    </tr>\n",
              "    <tr>\n",
              "      <th>Muppet Treasure Island</th>\n",
              "      <th>1996</th>\n",
              "      <td>4</td>\n",
              "    </tr>\n",
              "    <tr>\n",
              "      <th>Muppets from Space</th>\n",
              "      <th>1999</th>\n",
              "      <td>4</td>\n",
              "    </tr>\n",
              "    <tr>\n",
              "      <th>The Adventures of Elmo in Grouchland</th>\n",
              "      <th>1999</th>\n",
              "      <td>3</td>\n",
              "    </tr>\n",
              "  </tbody>\n",
              "</table>\n",
              "</div>\n",
              "      <button class=\"colab-df-convert\" onclick=\"convertToInteractive('df-30867c10-af27-4475-8a73-0e4a1b90110d')\"\n",
              "              title=\"Convert this dataframe to an interactive table.\"\n",
              "              style=\"display:none;\">\n",
              "        \n",
              "  <svg xmlns=\"http://www.w3.org/2000/svg\" height=\"24px\"viewBox=\"0 0 24 24\"\n",
              "       width=\"24px\">\n",
              "    <path d=\"M0 0h24v24H0V0z\" fill=\"none\"/>\n",
              "    <path d=\"M18.56 5.44l.94 2.06.94-2.06 2.06-.94-2.06-.94-.94-2.06-.94 2.06-2.06.94zm-11 1L8.5 8.5l.94-2.06 2.06-.94-2.06-.94L8.5 2.5l-.94 2.06-2.06.94zm10 10l.94 2.06.94-2.06 2.06-.94-2.06-.94-.94-2.06-.94 2.06-2.06.94z\"/><path d=\"M17.41 7.96l-1.37-1.37c-.4-.4-.92-.59-1.43-.59-.52 0-1.04.2-1.43.59L10.3 9.45l-7.72 7.72c-.78.78-.78 2.05 0 2.83L4 21.41c.39.39.9.59 1.41.59.51 0 1.02-.2 1.41-.59l7.78-7.78 2.81-2.81c.8-.78.8-2.07 0-2.86zM5.41 20L4 18.59l7.72-7.72 1.47 1.35L5.41 20z\"/>\n",
              "  </svg>\n",
              "      </button>\n",
              "      \n",
              "  <style>\n",
              "    .colab-df-container {\n",
              "      display:flex;\n",
              "      flex-wrap:wrap;\n",
              "      gap: 12px;\n",
              "    }\n",
              "\n",
              "    .colab-df-convert {\n",
              "      background-color: #E8F0FE;\n",
              "      border: none;\n",
              "      border-radius: 50%;\n",
              "      cursor: pointer;\n",
              "      display: none;\n",
              "      fill: #1967D2;\n",
              "      height: 32px;\n",
              "      padding: 0 0 0 0;\n",
              "      width: 32px;\n",
              "    }\n",
              "\n",
              "    .colab-df-convert:hover {\n",
              "      background-color: #E2EBFA;\n",
              "      box-shadow: 0px 1px 2px rgba(60, 64, 67, 0.3), 0px 1px 3px 1px rgba(60, 64, 67, 0.15);\n",
              "      fill: #174EA6;\n",
              "    }\n",
              "\n",
              "    [theme=dark] .colab-df-convert {\n",
              "      background-color: #3B4455;\n",
              "      fill: #D2E3FC;\n",
              "    }\n",
              "\n",
              "    [theme=dark] .colab-df-convert:hover {\n",
              "      background-color: #434B5C;\n",
              "      box-shadow: 0px 1px 3px 1px rgba(0, 0, 0, 0.15);\n",
              "      filter: drop-shadow(0px 1px 2px rgba(0, 0, 0, 0.3));\n",
              "      fill: #FFFFFF;\n",
              "    }\n",
              "  </style>\n",
              "\n",
              "      <script>\n",
              "        const buttonEl =\n",
              "          document.querySelector('#df-30867c10-af27-4475-8a73-0e4a1b90110d button.colab-df-convert');\n",
              "        buttonEl.style.display =\n",
              "          google.colab.kernel.accessAllowed ? 'block' : 'none';\n",
              "\n",
              "        async function convertToInteractive(key) {\n",
              "          const element = document.querySelector('#df-30867c10-af27-4475-8a73-0e4a1b90110d');\n",
              "          const dataTable =\n",
              "            await google.colab.kernel.invokeFunction('convertToInteractive',\n",
              "                                                     [key], {});\n",
              "          if (!dataTable) return;\n",
              "\n",
              "          const docLinkHtml = 'Like what you see? Visit the ' +\n",
              "            '<a target=\"_blank\" href=https://colab.research.google.com/notebooks/data_table.ipynb>data table notebook</a>'\n",
              "            + ' to learn more about interactive tables.';\n",
              "          element.innerHTML = '';\n",
              "          dataTable['output_type'] = 'display_data';\n",
              "          await google.colab.output.renderOutput(dataTable, element);\n",
              "          const docLink = document.createElement('div');\n",
              "          docLink.innerHTML = docLinkHtml;\n",
              "          element.appendChild(docLink);\n",
              "        }\n",
              "      </script>\n",
              "    </div>\n",
              "  </div>\n",
              "  "
            ],
            "text/plain": [
              "                                           character\n",
              "title                                year           \n",
              "The Muppet Movie                     1979          8\n",
              "An American Werewolf in London       1981          2\n",
              "The Great Muppet Caper               1981          6\n",
              "The Dark Crystal                     1982          2\n",
              "The Muppets Take Manhattan           1984          7\n",
              "Follow That Bird                     1985          3\n",
              "The Muppet Christmas Carol           1992          7\n",
              "Muppet Treasure Island               1996          4\n",
              "Muppets from Space                   1999          4\n",
              "The Adventures of Elmo in Grouchland 1999          3"
            ]
          },
          "metadata": {},
          "execution_count": 117
        }
      ],
      "source": [
        "frank_cast = cast[cast.name == 'Frank Oz'].groupby(by=['title','year']).aggregate({'character':'count'})\n",
        "frank_cast = frank_cast[frank_cast.character > 1]\n",
        "frank_cast.sort_index(level = 'year')"
      ]
    },
    {
      "cell_type": "markdown",
      "metadata": {
        "id": "KLjI-QHCFMyp"
      },
      "source": [
        "### Section II - Q10: List each of the characters that Frank Oz has portrayed at least twice"
      ]
    },
    {
      "cell_type": "code",
      "execution_count": 122,
      "metadata": {
        "id": "QeoGj9s0FMyp",
        "outputId": "eadd9750-21a4-4c00-f115-ad871ed4ce51",
        "colab": {
          "base_uri": "https://localhost:8080/"
        }
      },
      "outputs": [
        {
          "output_type": "execute_result",
          "data": {
            "text/plain": [
              "Miss Piggy        6\n",
              "Animal            6\n",
              "Yoda              6\n",
              "Cookie Monster    5\n",
              "Sam the Eagle     5\n",
              "Fozzie Bear       4\n",
              "Bert              3\n",
              "Grover            2\n",
              "Name: character, dtype: int64"
            ]
          },
          "metadata": {},
          "execution_count": 122
        }
      ],
      "source": [
        "frank_char = cast[cast.name == 'Frank Oz'].character.value_counts()\n",
        "frank_char[frank_char > 1]"
      ]
    },
    {
      "cell_type": "markdown",
      "metadata": {
        "id": "Fwx_GkoRFMyq"
      },
      "source": [
        "# Section III - Advanced Merging, Querying and Visualizations"
      ]
    },
    {
      "cell_type": "markdown",
      "metadata": {
        "id": "NwQdUCpuFMyq"
      },
      "source": [
        "## Make a bar plot with the following conditions\n",
        "- Frequency of the number of movies with \"Christmas\" in their title \n",
        "- Movies should be such that they are released in the USA.\n",
        "- Show the frequency plot by month"
      ]
    },
    {
      "cell_type": "code",
      "execution_count": 123,
      "metadata": {
        "id": "j6mRKUwJFMyq",
        "outputId": "5df93641-de59-4a0c-9115-6532d8c04633",
        "colab": {
          "base_uri": "https://localhost:8080/",
          "height": 285
        }
      },
      "outputs": [
        {
          "output_type": "execute_result",
          "data": {
            "text/plain": [
              "<matplotlib.axes._subplots.AxesSubplot at 0x7f15fbdd3150>"
            ]
          },
          "metadata": {},
          "execution_count": 123
        },
        {
          "output_type": "display_data",
          "data": {
            "image/png": "[encoded data removed]",
            "text/plain": [
              "<Figure size 432x288 with 1 Axes>"
            ]
          },
          "metadata": {
            "needs_background": "light"
          }
        }
      ],
      "source": [
        "christmas = release_dates[(release_dates.title.str.contains('Christmas')) & (release_dates.country == 'USA')]\n",
        "christmas.date.dt.month.value_counts().sort_index().plot(kind='bar')"
      ]
    },
    {
      "cell_type": "markdown",
      "metadata": {
        "id": "hk27oIMJFMyq"
      },
      "source": [
        "### Section III - Q1: Make a bar plot with the following conditions\n",
        "- Frequency of the number of movies with \"Summer\" in their title \n",
        "- Movies should be such that they are released in the USA.\n",
        "- Show the frequency plot by month"
      ]
    },
    {
      "cell_type": "code",
      "execution_count": 124,
      "metadata": {
        "id": "SnlijzCCFMyq",
        "outputId": "166d5fe0-365a-4a64-fe75-4857a49bad86",
        "colab": {
          "base_uri": "https://localhost:8080/",
          "height": 285
        }
      },
      "outputs": [
        {
          "output_type": "execute_result",
          "data": {
            "text/plain": [
              "<matplotlib.axes._subplots.AxesSubplot at 0x7f15fc07ead0>"
            ]
          },
          "metadata": {},
          "execution_count": 124
        },
        {
          "output_type": "display_data",
          "data": {
            "image/png": "[encoded data removed]",
            "text/plain": [
              "<Figure size 432x288 with 1 Axes>"
            ]
          },
          "metadata": {
            "needs_background": "light"
          }
        }
      ],
      "source": [
        "summer = release_dates[(release_dates.title.str.contains('Summer')) & (release_dates.country == 'USA')]\n",
        "summer.date.dt.month.value_counts().sort_index().plot(kind = 'bar')"
      ]
    },
    {
      "cell_type": "markdown",
      "metadata": {
        "id": "23PkEVj5FMyq"
      },
      "source": [
        "### Section III - Q2: Make a bar plot with the following conditions\n",
        "- Frequency of the number of movies with \"Action\" in their title \n",
        "- Movies should be such that they are released in the USA.\n",
        "- Show the frequency plot by week"
      ]
    },
    {
      "cell_type": "code",
      "execution_count": 125,
      "metadata": {
        "id": "oitlVQBrFMyq",
        "outputId": "56f58718-c680-4eba-e943-c68170e88dd9",
        "colab": {
          "base_uri": "https://localhost:8080/",
          "height": 340
        }
      },
      "outputs": [
        {
          "output_type": "stream",
          "name": "stderr",
          "text": [
            "/usr/local/lib/python3.7/dist-packages/ipykernel_launcher.py:2: FutureWarning: Series.dt.weekofyear and Series.dt.week have been deprecated.  Please use Series.dt.isocalendar().week instead.\n",
            "  \n"
          ]
        },
        {
          "output_type": "execute_result",
          "data": {
            "text/plain": [
              "<matplotlib.axes._subplots.AxesSubplot at 0x7f15fbce2050>"
            ]
          },
          "metadata": {},
          "execution_count": 125
        },
        {
          "output_type": "display_data",
          "data": {
            "image/png": "[encoded data removed]",
            "text/plain": [
              "<Figure size 432x288 with 1 Axes>"
            ]
          },
          "metadata": {
            "needs_background": "light"
          }
        }
      ],
      "source": [
        "action = release_dates[(release_dates.title.str.contains('action', case = False)) & (release_dates.country == 'USA')]\n",
        "action.date.dt.week.value_counts().sort_index().plot(kind = 'bar')"
      ]
    },
    {
      "cell_type": "markdown",
      "metadata": {
        "id": "Zalv5KfjFMyq"
      },
      "source": [
        "### Section III - Q3: Show all the movies in which Keanu Reeves has played the lead role along with their   release date in the USA sorted by the date of release\n",
        "- Hint: You might need to join or merge two datasets!"
      ]
    },
    {
      "cell_type": "code",
      "execution_count": 131,
      "metadata": {
        "id": "PUV00YrPFMyr",
        "outputId": "cb8bf205-5c0c-44cd-eff7-5fe9861deaf4",
        "colab": {
          "base_uri": "https://localhost:8080/",
          "height": 739
        }
      },
      "outputs": [
        {
          "output_type": "execute_result",
          "data": {
            "text/html": [
              "\n",
              "  <div id=\"df-f8e9203b-0cad-4006-b7a2-06bc6f8443b0\">\n",
              "    <div class=\"colab-df-container\">\n",
              "      <div>\n",
              "<style scoped>\n",
              "    .dataframe tbody tr th:only-of-type {\n",
              "        vertical-align: middle;\n",
              "    }\n",
              "\n",
              "    .dataframe tbody tr th {\n",
              "        vertical-align: top;\n",
              "    }\n",
              "\n",
              "    .dataframe thead th {\n",
              "        text-align: right;\n",
              "    }\n",
              "</style>\n",
              "<table border=\"1\" class=\"dataframe\">\n",
              "  <thead>\n",
              "    <tr style=\"text-align: right;\">\n",
              "      <th></th>\n",
              "      <th>title</th>\n",
              "      <th>year</th>\n",
              "      <th>country</th>\n",
              "      <th>date</th>\n",
              "      <th>name</th>\n",
              "      <th>type</th>\n",
              "      <th>character</th>\n",
              "      <th>n</th>\n",
              "    </tr>\n",
              "  </thead>\n",
              "  <tbody>\n",
              "    <tr>\n",
              "      <th>16617480</th>\n",
              "      <td>The Night Before</td>\n",
              "      <td>1988</td>\n",
              "      <td>USA</td>\n",
              "      <td>1988-04-15</td>\n",
              "      <td>Keanu Reeves</td>\n",
              "      <td>actor</td>\n",
              "      <td>Winston Connelly</td>\n",
              "      <td>1.0</td>\n",
              "    </tr>\n",
              "    <tr>\n",
              "      <th>1976880</th>\n",
              "      <td>Bill &amp; Ted's Excellent Adventure</td>\n",
              "      <td>1989</td>\n",
              "      <td>USA</td>\n",
              "      <td>1989-02-17</td>\n",
              "      <td>Keanu Reeves</td>\n",
              "      <td>actor</td>\n",
              "      <td>Ted</td>\n",
              "      <td>1.0</td>\n",
              "    </tr>\n",
              "    <tr>\n",
              "      <th>1976345</th>\n",
              "      <td>Bill &amp; Ted's Bogus Journey</td>\n",
              "      <td>1991</td>\n",
              "      <td>USA</td>\n",
              "      <td>1991-07-19</td>\n",
              "      <td>Keanu Reeves</td>\n",
              "      <td>actor</td>\n",
              "      <td>Ted</td>\n",
              "      <td>1.0</td>\n",
              "    </tr>\n",
              "    <tr>\n",
              "      <th>8768200</th>\n",
              "      <td>Little Buddha</td>\n",
              "      <td>1993</td>\n",
              "      <td>USA</td>\n",
              "      <td>1994-05-25</td>\n",
              "      <td>Keanu Reeves</td>\n",
              "      <td>actor</td>\n",
              "      <td>Siddhartha</td>\n",
              "      <td>1.0</td>\n",
              "    </tr>\n",
              "    <tr>\n",
              "      <th>13378143</th>\n",
              "      <td>Speed</td>\n",
              "      <td>1994</td>\n",
              "      <td>USA</td>\n",
              "      <td>1994-06-10</td>\n",
              "      <td>Keanu Reeves</td>\n",
              "      <td>actor</td>\n",
              "      <td>Jack Traven</td>\n",
              "      <td>1.0</td>\n",
              "    </tr>\n",
              "    <tr>\n",
              "      <th>7569354</th>\n",
              "      <td>Johnny Mnemonic</td>\n",
              "      <td>1995</td>\n",
              "      <td>USA</td>\n",
              "      <td>1995-05-26</td>\n",
              "      <td>Keanu Reeves</td>\n",
              "      <td>actor</td>\n",
              "      <td>Johnny Mnemonic</td>\n",
              "      <td>1.0</td>\n",
              "    </tr>\n",
              "    <tr>\n",
              "      <th>507600</th>\n",
              "      <td>A Walk in the Clouds</td>\n",
              "      <td>1995</td>\n",
              "      <td>USA</td>\n",
              "      <td>1995-08-11</td>\n",
              "      <td>Keanu Reeves</td>\n",
              "      <td>actor</td>\n",
              "      <td>Paul Sutton</td>\n",
              "      <td>1.0</td>\n",
              "    </tr>\n",
              "    <tr>\n",
              "      <th>2820055</th>\n",
              "      <td>Chain Reaction</td>\n",
              "      <td>1996</td>\n",
              "      <td>USA</td>\n",
              "      <td>1996-08-02</td>\n",
              "      <td>Keanu Reeves</td>\n",
              "      <td>actor</td>\n",
              "      <td>Eddie Kasalivich</td>\n",
              "      <td>1.0</td>\n",
              "    </tr>\n",
              "    <tr>\n",
              "      <th>4911071</th>\n",
              "      <td>Feeling Minnesota</td>\n",
              "      <td>1996</td>\n",
              "      <td>USA</td>\n",
              "      <td>1996-09-13</td>\n",
              "      <td>Keanu Reeves</td>\n",
              "      <td>actor</td>\n",
              "      <td>Jjaks Clayton</td>\n",
              "      <td>1.0</td>\n",
              "    </tr>\n",
              "    <tr>\n",
              "      <th>15111030</th>\n",
              "      <td>The Devil's Advocate</td>\n",
              "      <td>1997</td>\n",
              "      <td>USA</td>\n",
              "      <td>1997-10-17</td>\n",
              "      <td>Keanu Reeves</td>\n",
              "      <td>actor</td>\n",
              "      <td>Kevin Lomax</td>\n",
              "      <td>1.0</td>\n",
              "    </tr>\n",
              "    <tr>\n",
              "      <th>16445857</th>\n",
              "      <td>The Matrix</td>\n",
              "      <td>1999</td>\n",
              "      <td>USA</td>\n",
              "      <td>1999-03-31</td>\n",
              "      <td>Keanu Reeves</td>\n",
              "      <td>actor</td>\n",
              "      <td>Neo</td>\n",
              "      <td>1.0</td>\n",
              "    </tr>\n",
              "    <tr>\n",
              "      <th>17003032</th>\n",
              "      <td>The Replacements</td>\n",
              "      <td>2000</td>\n",
              "      <td>USA</td>\n",
              "      <td>2000-08-11</td>\n",
              "      <td>Keanu Reeves</td>\n",
              "      <td>actor</td>\n",
              "      <td>Shane Falco</td>\n",
              "      <td>1.0</td>\n",
              "    </tr>\n",
              "    <tr>\n",
              "      <th>13998295</th>\n",
              "      <td>Sweet November</td>\n",
              "      <td>2001</td>\n",
              "      <td>USA</td>\n",
              "      <td>2001-02-16</td>\n",
              "      <td>Keanu Reeves</td>\n",
              "      <td>actor</td>\n",
              "      <td>Nelson Moss</td>\n",
              "      <td>1.0</td>\n",
              "    </tr>\n",
              "    <tr>\n",
              "      <th>6119781</th>\n",
              "      <td>Hard Ball</td>\n",
              "      <td>2001</td>\n",
              "      <td>USA</td>\n",
              "      <td>2001-09-14</td>\n",
              "      <td>Keanu Reeves</td>\n",
              "      <td>actor</td>\n",
              "      <td>Conor O'Neill</td>\n",
              "      <td>1.0</td>\n",
              "    </tr>\n",
              "    <tr>\n",
              "      <th>3251123</th>\n",
              "      <td>Constantine</td>\n",
              "      <td>2005</td>\n",
              "      <td>USA</td>\n",
              "      <td>2005-02-18</td>\n",
              "      <td>Keanu Reeves</td>\n",
              "      <td>actor</td>\n",
              "      <td>John Constantine</td>\n",
              "      <td>1.0</td>\n",
              "    </tr>\n",
              "    <tr>\n",
              "      <th>16081283</th>\n",
              "      <td>The Lake House</td>\n",
              "      <td>2006</td>\n",
              "      <td>USA</td>\n",
              "      <td>2006-06-16</td>\n",
              "      <td>Keanu Reeves</td>\n",
              "      <td>actor</td>\n",
              "      <td>Alex Wyler</td>\n",
              "      <td>1.0</td>\n",
              "    </tr>\n",
              "    <tr>\n",
              "      <th>13787579</th>\n",
              "      <td>Street Kings</td>\n",
              "      <td>2008</td>\n",
              "      <td>USA</td>\n",
              "      <td>2008-04-11</td>\n",
              "      <td>Keanu Reeves</td>\n",
              "      <td>actor</td>\n",
              "      <td>Detective Tom Ludlow</td>\n",
              "      <td>1.0</td>\n",
              "    </tr>\n",
              "    <tr>\n",
              "      <th>15068823</th>\n",
              "      <td>The Day the Earth Stood Still</td>\n",
              "      <td>2008</td>\n",
              "      <td>USA</td>\n",
              "      <td>2008-12-12</td>\n",
              "      <td>Keanu Reeves</td>\n",
              "      <td>actor</td>\n",
              "      <td>Klaatu</td>\n",
              "      <td>1.0</td>\n",
              "    </tr>\n",
              "    <tr>\n",
              "      <th>223831</th>\n",
              "      <td>47 Ronin</td>\n",
              "      <td>2013</td>\n",
              "      <td>USA</td>\n",
              "      <td>2013-12-25</td>\n",
              "      <td>Keanu Reeves</td>\n",
              "      <td>actor</td>\n",
              "      <td>Kai</td>\n",
              "      <td>1.0</td>\n",
              "    </tr>\n",
              "    <tr>\n",
              "      <th>7547318</th>\n",
              "      <td>John Wick</td>\n",
              "      <td>2014</td>\n",
              "      <td>USA</td>\n",
              "      <td>2014-10-24</td>\n",
              "      <td>Keanu Reeves</td>\n",
              "      <td>actor</td>\n",
              "      <td>John Wick</td>\n",
              "      <td>1.0</td>\n",
              "    </tr>\n",
              "    <tr>\n",
              "      <th>7986334</th>\n",
              "      <td>Knock Knock</td>\n",
              "      <td>2015</td>\n",
              "      <td>USA</td>\n",
              "      <td>2015-10-09</td>\n",
              "      <td>Keanu Reeves</td>\n",
              "      <td>actor</td>\n",
              "      <td>Evan</td>\n",
              "      <td>1.0</td>\n",
              "    </tr>\n",
              "    <tr>\n",
              "      <th>7553751</th>\n",
              "      <td>John Wick: Chapter 2</td>\n",
              "      <td>2017</td>\n",
              "      <td>USA</td>\n",
              "      <td>2017-02-10</td>\n",
              "      <td>Keanu Reeves</td>\n",
              "      <td>actor</td>\n",
              "      <td>John Wick</td>\n",
              "      <td>1.0</td>\n",
              "    </tr>\n",
              "  </tbody>\n",
              "</table>\n",
              "</div>\n",
              "      <button class=\"colab-df-convert\" onclick=\"convertToInteractive('df-f8e9203b-0cad-4006-b7a2-06bc6f8443b0')\"\n",
              "              title=\"Convert this dataframe to an interactive table.\"\n",
              "              style=\"display:none;\">\n",
              "        \n",
              "  <svg xmlns=\"http://www.w3.org/2000/svg\" height=\"24px\"viewBox=\"0 0 24 24\"\n",
              "       width=\"24px\">\n",
              "    <path d=\"M0 0h24v24H0V0z\" fill=\"none\"/>\n",
              "    <path d=\"M18.56 5.44l.94 2.06.94-2.06 2.06-.94-2.06-.94-.94-2.06-.94 2.06-2.06.94zm-11 1L8.5 8.5l.94-2.06 2.06-.94-2.06-.94L8.5 2.5l-.94 2.06-2.06.94zm10 10l.94 2.06.94-2.06 2.06-.94-2.06-.94-.94-2.06-.94 2.06-2.06.94z\"/><path d=\"M17.41 7.96l-1.37-1.37c-.4-.4-.92-.59-1.43-.59-.52 0-1.04.2-1.43.59L10.3 9.45l-7.72 7.72c-.78.78-.78 2.05 0 2.83L4 21.41c.39.39.9.59 1.41.59.51 0 1.02-.2 1.41-.59l7.78-7.78 2.81-2.81c.8-.78.8-2.07 0-2.86zM5.41 20L4 18.59l7.72-7.72 1.47 1.35L5.41 20z\"/>\n",
              "  </svg>\n",
              "      </button>\n",
              "      \n",
              "  <style>\n",
              "    .colab-df-container {\n",
              "      display:flex;\n",
              "      flex-wrap:wrap;\n",
              "      gap: 12px;\n",
              "    }\n",
              "\n",
              "    .colab-df-convert {\n",
              "      background-color: #E8F0FE;\n",
              "      border: none;\n",
              "      border-radius: 50%;\n",
              "      cursor: pointer;\n",
              "      display: none;\n",
              "      fill: #1967D2;\n",
              "      height: 32px;\n",
              "      padding: 0 0 0 0;\n",
              "      width: 32px;\n",
              "    }\n",
              "\n",
              "    .colab-df-convert:hover {\n",
              "      background-color: #E2EBFA;\n",
              "      box-shadow: 0px 1px 2px rgba(60, 64, 67, 0.3), 0px 1px 3px 1px rgba(60, 64, 67, 0.15);\n",
              "      fill: #174EA6;\n",
              "    }\n",
              "\n",
              "    [theme=dark] .colab-df-convert {\n",
              "      background-color: #3B4455;\n",
              "      fill: #D2E3FC;\n",
              "    }\n",
              "\n",
              "    [theme=dark] .colab-df-convert:hover {\n",
              "      background-color: #434B5C;\n",
              "      box-shadow: 0px 1px 3px 1px rgba(0, 0, 0, 0.15);\n",
              "      filter: drop-shadow(0px 1px 2px rgba(0, 0, 0, 0.3));\n",
              "      fill: #FFFFFF;\n",
              "    }\n",
              "  </style>\n",
              "\n",
              "      <script>\n",
              "        const buttonEl =\n",
              "          document.querySelector('#df-f8e9203b-0cad-4006-b7a2-06bc6f8443b0 button.colab-df-convert');\n",
              "        buttonEl.style.display =\n",
              "          google.colab.kernel.accessAllowed ? 'block' : 'none';\n",
              "\n",
              "        async function convertToInteractive(key) {\n",
              "          const element = document.querySelector('#df-f8e9203b-0cad-4006-b7a2-06bc6f8443b0');\n",
              "          const dataTable =\n",
              "            await google.colab.kernel.invokeFunction('convertToInteractive',\n",
              "                                                     [key], {});\n",
              "          if (!dataTable) return;\n",
              "\n",
              "          const docLinkHtml = 'Like what you see? Visit the ' +\n",
              "            '<a target=\"_blank\" href=https://colab.research.google.com/notebooks/data_table.ipynb>data table notebook</a>'\n",
              "            + ' to learn more about interactive tables.';\n",
              "          element.innerHTML = '';\n",
              "          dataTable['output_type'] = 'display_data';\n",
              "          await google.colab.output.renderOutput(dataTable, element);\n",
              "          const docLink = document.createElement('div');\n",
              "          docLink.innerHTML = docLinkHtml;\n",
              "          element.appendChild(docLink);\n",
              "        }\n",
              "      </script>\n",
              "    </div>\n",
              "  </div>\n",
              "  "
            ],
            "text/plain": [
              "                                     title  year  ...             character    n\n",
              "16617480                  The Night Before  1988  ...      Winston Connelly  1.0\n",
              "1976880   Bill & Ted's Excellent Adventure  1989  ...                   Ted  1.0\n",
              "1976345         Bill & Ted's Bogus Journey  1991  ...                   Ted  1.0\n",
              "8768200                      Little Buddha  1993  ...            Siddhartha  1.0\n",
              "13378143                             Speed  1994  ...           Jack Traven  1.0\n",
              "7569354                    Johnny Mnemonic  1995  ...       Johnny Mnemonic  1.0\n",
              "507600                A Walk in the Clouds  1995  ...           Paul Sutton  1.0\n",
              "2820055                     Chain Reaction  1996  ...      Eddie Kasalivich  1.0\n",
              "4911071                  Feeling Minnesota  1996  ...         Jjaks Clayton  1.0\n",
              "15111030              The Devil's Advocate  1997  ...           Kevin Lomax  1.0\n",
              "16445857                        The Matrix  1999  ...                   Neo  1.0\n",
              "17003032                  The Replacements  2000  ...           Shane Falco  1.0\n",
              "13998295                    Sweet November  2001  ...           Nelson Moss  1.0\n",
              "6119781                          Hard Ball  2001  ...         Conor O'Neill  1.0\n",
              "3251123                        Constantine  2005  ...      John Constantine  1.0\n",
              "16081283                    The Lake House  2006  ...            Alex Wyler  1.0\n",
              "13787579                      Street Kings  2008  ...  Detective Tom Ludlow  1.0\n",
              "15068823     The Day the Earth Stood Still  2008  ...                Klaatu  1.0\n",
              "223831                            47 Ronin  2013  ...                   Kai  1.0\n",
              "7547318                          John Wick  2014  ...             John Wick  1.0\n",
              "7986334                        Knock Knock  2015  ...                  Evan  1.0\n",
              "7553751               John Wick: Chapter 2  2017  ...             John Wick  1.0\n",
              "\n",
              "[22 rows x 8 columns]"
            ]
          },
          "metadata": {},
          "execution_count": 131
        }
      ],
      "source": [
        " cast_release = release_dates.merge(cast, on=['title', 'year'])\n",
        " keanu_release = cast_release[(cast_release.name == 'Keanu Reeves') & (cast_release.n == 1.0) & (cast_release.country == 'USA')].sort_values('date')\n",
        " keanu_release"
      ]
    },
    {
      "cell_type": "markdown",
      "metadata": {
        "id": "YIVd2CByFMyr"
      },
      "source": [
        "### Section III - Q4: Make a bar plot showing the months in which movies with Keanu Reeves tend to be released in the USA?"
      ]
    },
    {
      "cell_type": "code",
      "execution_count": 133,
      "metadata": {
        "id": "h1tJxrafFMyr",
        "outputId": "39a8090d-9e34-4203-f7ba-03b478732490",
        "colab": {
          "base_uri": "https://localhost:8080/",
          "height": 285
        }
      },
      "outputs": [
        {
          "output_type": "execute_result",
          "data": {
            "text/plain": [
              "<matplotlib.axes._subplots.AxesSubplot at 0x7f15fb9c3c50>"
            ]
          },
          "metadata": {},
          "execution_count": 133
        },
        {
          "output_type": "display_data",
          "data": {
            "image/png": "[encoded data removed]",
            "text/plain": [
              "<Figure size 432x288 with 1 Axes>"
            ]
          },
          "metadata": {
            "needs_background": "light"
          }
        }
      ],
      "source": [
        "keanu_release_month = cast_release[(cast_release.name == 'Keanu Reeves') & (cast_release.country == 'USA')].sort_values('date')\n",
        "keanu_release_month.date.dt.month.value_counts().sort_index().plot(kind = 'bar')"
      ]
    },
    {
      "cell_type": "markdown",
      "metadata": {
        "id": "f3lQurHwFMyr"
      },
      "source": [
        "### Section III - Q5: Make a bar plot showing the years in which movies with Ian McKellen tend to be released in the USA?"
      ]
    },
    {
      "cell_type": "code",
      "execution_count": 134,
      "metadata": {
        "id": "liufHYuxFMyr",
        "outputId": "3b301467-6f70-4a66-c1ac-0fb2a62083ce",
        "colab": {
          "base_uri": "https://localhost:8080/",
          "height": 298
        }
      },
      "outputs": [
        {
          "output_type": "execute_result",
          "data": {
            "text/plain": [
              "<matplotlib.axes._subplots.AxesSubplot at 0x7f15fb3c02d0>"
            ]
          },
          "metadata": {},
          "execution_count": 134
        },
        {
          "output_type": "display_data",
          "data": {
            "image/png": "[encoded data removed]",
            "text/plain": [
              "<Figure size 432x288 with 1 Axes>"
            ]
          },
          "metadata": {
            "needs_background": "light"
          }
        }
      ],
      "source": [
        "Ian_relases = cast_release[(cast_release.name == 'Ian McKellen')& (cast_release.country == 'USA')].sort_values('date')\n",
        "Ian_relases.date.dt.year.value_counts().sort_index().plot(kind = 'bar')"
      ]
    }
  ],
  "metadata": {
    "kernelspec": {
      "display_name": "Python 3",
      "language": "python",
      "name": "python3"
    },
    "language_info": {
      "codemirror_mode": {
        "name": "ipython",
        "version": 3
      },
      "file_extension": ".py",
      "mimetype": "text/x-python",
      "name": "python",
      "nbconvert_exporter": "python",
      "pygments_lexer": "ipython3",
      "version": "3.7.6-final"
    },
    "colab": {
      "name": "Mini_Project_Data_Wrangling_Pandas.ipynb",
      "provenance": []
    }
  },
  "nbformat": 4,
  "nbformat_minor": 0
}